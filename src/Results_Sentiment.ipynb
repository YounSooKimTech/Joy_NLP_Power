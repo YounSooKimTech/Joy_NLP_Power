{
  "nbformat": 4,
  "nbformat_minor": 0,
  "metadata": {
    "colab": {
      "provenance": [],
      "authorship_tag": "ABX9TyPimLPXP3BegnkKnW3kpuZU",
      "include_colab_link": true
    },
    "kernelspec": {
      "name": "python3",
      "display_name": "Python 3"
    },
    "language_info": {
      "name": "python"
    }
  },
  "cells": [
    {
      "cell_type": "markdown",
      "metadata": {
        "id": "view-in-github",
        "colab_type": "text"
      },
      "source": [
        "<a href=\"https://colab.research.google.com/github/YounSooKimTech/Joy_NLP_Power/blob/main/src/Results_Sentiment.ipynb\" target=\"_parent\"><img src=\"https://colab.research.google.com/assets/colab-badge.svg\" alt=\"Open In Colab\"/></a>"
      ]
    },
    {
      "cell_type": "code",
      "execution_count": 1,
      "metadata": {
        "colab": {
          "base_uri": "https://localhost:8080/",
          "height": 248
        },
        "id": "rziidiXtdgnC",
        "outputId": "718eb80d-c41c-4f7e-8909-28bf83429736"
      },
      "outputs": [
        {
          "output_type": "execute_result",
          "data": {
            "text/plain": [
              "  Receiver_Name          Receiver_Email Receiver_Position  Receiver_Rank  \\\n",
              "0  Andrew Lewis  andrew.lewis@enron.com    Vice President              4   \n",
              "\n",
              "      Sender_Name              Sender_Email Sender_Position  Sender_Rank  \\\n",
              "0  Hunter Shively  hunter.shively@enron.com  Vice President            4   \n",
              "\n",
              "                       file  \\\n",
              "0  lewis-a/all_documents/6.   \n",
              "\n",
              "                                             message           Subject  \\\n",
              "0  Message-ID: <20773283.1075848285687.JavaMail.e...  Western Frontier   \n",
              "\n",
              "                                                Body  \\\n",
              "0  ---------------------- Forwarded by Hunter S S...   \n",
              "\n",
              "                                    Date timezone content  \\\n",
              "0  Mon, 26 Mar 2001 02:44:00 -0800 (PST)      PST           \n",
              "\n",
              "                    Date_UTC  Sender-Receiver direction tokens cleaned_tokens  \n",
              "0  2001-03-26 10:44:00+00:00                0      same     []             []  "
            ],
            "text/html": [
              "\n",
              "  <div id=\"df-d7bea250-1469-41ea-98fc-8ae2f2480b24\">\n",
              "    <div class=\"colab-df-container\">\n",
              "      <div>\n",
              "<style scoped>\n",
              "    .dataframe tbody tr th:only-of-type {\n",
              "        vertical-align: middle;\n",
              "    }\n",
              "\n",
              "    .dataframe tbody tr th {\n",
              "        vertical-align: top;\n",
              "    }\n",
              "\n",
              "    .dataframe thead th {\n",
              "        text-align: right;\n",
              "    }\n",
              "</style>\n",
              "<table border=\"1\" class=\"dataframe\">\n",
              "  <thead>\n",
              "    <tr style=\"text-align: right;\">\n",
              "      <th></th>\n",
              "      <th>Receiver_Name</th>\n",
              "      <th>Receiver_Email</th>\n",
              "      <th>Receiver_Position</th>\n",
              "      <th>Receiver_Rank</th>\n",
              "      <th>Sender_Name</th>\n",
              "      <th>Sender_Email</th>\n",
              "      <th>Sender_Position</th>\n",
              "      <th>Sender_Rank</th>\n",
              "      <th>file</th>\n",
              "      <th>message</th>\n",
              "      <th>Subject</th>\n",
              "      <th>Body</th>\n",
              "      <th>Date</th>\n",
              "      <th>timezone</th>\n",
              "      <th>content</th>\n",
              "      <th>Date_UTC</th>\n",
              "      <th>Sender-Receiver</th>\n",
              "      <th>direction</th>\n",
              "      <th>tokens</th>\n",
              "      <th>cleaned_tokens</th>\n",
              "    </tr>\n",
              "  </thead>\n",
              "  <tbody>\n",
              "    <tr>\n",
              "      <th>0</th>\n",
              "      <td>Andrew Lewis</td>\n",
              "      <td>andrew.lewis@enron.com</td>\n",
              "      <td>Vice President</td>\n",
              "      <td>4</td>\n",
              "      <td>Hunter Shively</td>\n",
              "      <td>hunter.shively@enron.com</td>\n",
              "      <td>Vice President</td>\n",
              "      <td>4</td>\n",
              "      <td>lewis-a/all_documents/6.</td>\n",
              "      <td>Message-ID: &lt;20773283.1075848285687.JavaMail.e...</td>\n",
              "      <td>Western Frontier</td>\n",
              "      <td>---------------------- Forwarded by Hunter S S...</td>\n",
              "      <td>Mon, 26 Mar 2001 02:44:00 -0800 (PST)</td>\n",
              "      <td>PST</td>\n",
              "      <td></td>\n",
              "      <td>2001-03-26 10:44:00+00:00</td>\n",
              "      <td>0</td>\n",
              "      <td>same</td>\n",
              "      <td>[]</td>\n",
              "      <td>[]</td>\n",
              "    </tr>\n",
              "  </tbody>\n",
              "</table>\n",
              "</div>\n",
              "      <button class=\"colab-df-convert\" onclick=\"convertToInteractive('df-d7bea250-1469-41ea-98fc-8ae2f2480b24')\"\n",
              "              title=\"Convert this dataframe to an interactive table.\"\n",
              "              style=\"display:none;\">\n",
              "        \n",
              "  <svg xmlns=\"http://www.w3.org/2000/svg\" height=\"24px\"viewBox=\"0 0 24 24\"\n",
              "       width=\"24px\">\n",
              "    <path d=\"M0 0h24v24H0V0z\" fill=\"none\"/>\n",
              "    <path d=\"M18.56 5.44l.94 2.06.94-2.06 2.06-.94-2.06-.94-.94-2.06-.94 2.06-2.06.94zm-11 1L8.5 8.5l.94-2.06 2.06-.94-2.06-.94L8.5 2.5l-.94 2.06-2.06.94zm10 10l.94 2.06.94-2.06 2.06-.94-2.06-.94-.94-2.06-.94 2.06-2.06.94z\"/><path d=\"M17.41 7.96l-1.37-1.37c-.4-.4-.92-.59-1.43-.59-.52 0-1.04.2-1.43.59L10.3 9.45l-7.72 7.72c-.78.78-.78 2.05 0 2.83L4 21.41c.39.39.9.59 1.41.59.51 0 1.02-.2 1.41-.59l7.78-7.78 2.81-2.81c.8-.78.8-2.07 0-2.86zM5.41 20L4 18.59l7.72-7.72 1.47 1.35L5.41 20z\"/>\n",
              "  </svg>\n",
              "      </button>\n",
              "      \n",
              "  <style>\n",
              "    .colab-df-container {\n",
              "      display:flex;\n",
              "      flex-wrap:wrap;\n",
              "      gap: 12px;\n",
              "    }\n",
              "\n",
              "    .colab-df-convert {\n",
              "      background-color: #E8F0FE;\n",
              "      border: none;\n",
              "      border-radius: 50%;\n",
              "      cursor: pointer;\n",
              "      display: none;\n",
              "      fill: #1967D2;\n",
              "      height: 32px;\n",
              "      padding: 0 0 0 0;\n",
              "      width: 32px;\n",
              "    }\n",
              "\n",
              "    .colab-df-convert:hover {\n",
              "      background-color: #E2EBFA;\n",
              "      box-shadow: 0px 1px 2px rgba(60, 64, 67, 0.3), 0px 1px 3px 1px rgba(60, 64, 67, 0.15);\n",
              "      fill: #174EA6;\n",
              "    }\n",
              "\n",
              "    [theme=dark] .colab-df-convert {\n",
              "      background-color: #3B4455;\n",
              "      fill: #D2E3FC;\n",
              "    }\n",
              "\n",
              "    [theme=dark] .colab-df-convert:hover {\n",
              "      background-color: #434B5C;\n",
              "      box-shadow: 0px 1px 3px 1px rgba(0, 0, 0, 0.15);\n",
              "      filter: drop-shadow(0px 1px 2px rgba(0, 0, 0, 0.3));\n",
              "      fill: #FFFFFF;\n",
              "    }\n",
              "  </style>\n",
              "\n",
              "      <script>\n",
              "        const buttonEl =\n",
              "          document.querySelector('#df-d7bea250-1469-41ea-98fc-8ae2f2480b24 button.colab-df-convert');\n",
              "        buttonEl.style.display =\n",
              "          google.colab.kernel.accessAllowed ? 'block' : 'none';\n",
              "\n",
              "        async function convertToInteractive(key) {\n",
              "          const element = document.querySelector('#df-d7bea250-1469-41ea-98fc-8ae2f2480b24');\n",
              "          const dataTable =\n",
              "            await google.colab.kernel.invokeFunction('convertToInteractive',\n",
              "                                                     [key], {});\n",
              "          if (!dataTable) return;\n",
              "\n",
              "          const docLinkHtml = 'Like what you see? Visit the ' +\n",
              "            '<a target=\"_blank\" href=https://colab.research.google.com/notebooks/data_table.ipynb>data table notebook</a>'\n",
              "            + ' to learn more about interactive tables.';\n",
              "          element.innerHTML = '';\n",
              "          dataTable['output_type'] = 'display_data';\n",
              "          await google.colab.output.renderOutput(dataTable, element);\n",
              "          const docLink = document.createElement('div');\n",
              "          docLink.innerHTML = docLinkHtml;\n",
              "          element.appendChild(docLink);\n",
              "        }\n",
              "      </script>\n",
              "    </div>\n",
              "  </div>\n",
              "  "
            ]
          },
          "metadata": {},
          "execution_count": 1
        }
      ],
      "source": [
        "import pandas as pd\n",
        "\n",
        "df = pd.read_csv('https://raw.githubusercontent.com/YounSooKimTech/Joy_NLP_Power/main/data/Enron_merged_df.csv')\n",
        "df.fillna('', inplace=True)\n",
        "\n",
        "\n",
        "df.head(1)"
      ]
    },
    {
      "cell_type": "code",
      "source": [
        "import pandas as pd\n",
        "from textblob import TextBlob\n",
        "\n",
        "# Define function to get sentiment score\n",
        "def get_sentiment(text):\n",
        "    blob = TextBlob(text)\n",
        "    return blob.sentiment.polarity\n",
        "\n",
        "# Apply function to each row of dataframe\n",
        "df['sentiment'] = df['content'].apply(get_sentiment)\n"
      ],
      "metadata": {
        "id": "Rgv22T5Rd0yV"
      },
      "execution_count": 2,
      "outputs": []
    },
    {
      "cell_type": "code",
      "source": [
        "# descriptive stat\n",
        "df.groupby(\"direction\")[\"sentiment\"].mean()"
      ],
      "metadata": {
        "colab": {
          "base_uri": "https://localhost:8080/"
        },
        "id": "7CG1Biled3Nx",
        "outputId": "689bd781-aa53-4e3f-b974-7fee29114e9d"
      },
      "execution_count": 3,
      "outputs": [
        {
          "output_type": "execute_result",
          "data": {
            "text/plain": [
              "direction\n",
              "downward    0.094941\n",
              "same        0.056201\n",
              "upward      0.098923\n",
              "Name: sentiment, dtype: float64"
            ]
          },
          "metadata": {},
          "execution_count": 3
        }
      ]
    },
    {
      "cell_type": "code",
      "source": [
        "import pandas as pd\n",
        "import statsmodels.api as sm\n",
        "from statsmodels.formula.api import ols\n",
        "from statsmodels.stats.multicomp import pairwise_tukeyhsd\n",
        "\n",
        "# fit an ANOVA model with the 'values' column as the dependent variable and the 'group' column as the independent variable\n",
        "model = ols('sentiment ~ C(direction)', data=df).fit()\n",
        "\n",
        "# perform an ANOVA test\n",
        "anova_table = sm.stats.anova_lm(model, typ=2)\n",
        "\n",
        "# print the ANOVA table\n",
        "print(anova_table)\n",
        "print(\"\\n\\n\")\n",
        "\n",
        "# perform Tukey's HSD test\n",
        "tukey_results = pairwise_tukeyhsd(df[\"sentiment\"], df['direction'])\n",
        "\n",
        "# print the Tukey's HSD results\n",
        "print(tukey_results)\n",
        "print(\"\\n\\n\")\n"
      ],
      "metadata": {
        "colab": {
          "base_uri": "https://localhost:8080/"
        },
        "id": "X5zteFExd7bg",
        "outputId": "33ae192b-644f-4952-accc-8fcfadbfbbcc"
      },
      "execution_count": 4,
      "outputs": [
        {
          "output_type": "stream",
          "name": "stdout",
          "text": [
            "                 sum_sq      df          F    PR(>F)\n",
            "C(direction)   0.788335     2.0  10.988535  0.000018\n",
            "Residual      72.387309  2018.0        NaN       NaN\n",
            "\n",
            "\n",
            "\n",
            " Multiple Comparison of Means - Tukey HSD, FWER=0.05  \n",
            "======================================================\n",
            " group1  group2 meandiff p-adj   lower   upper  reject\n",
            "------------------------------------------------------\n",
            "downward   same  -0.0387 0.0004 -0.0626 -0.0149   True\n",
            "downward upward    0.004 0.9257  -0.021  0.0289  False\n",
            "    same upward   0.0427 0.0001  0.0187  0.0667   True\n",
            "------------------------------------------------------\n",
            "\n",
            "\n",
            "\n"
          ]
        }
      ]
    },
    {
      "cell_type": "code",
      "source": [
        "\n",
        "import matplotlib.pyplot as plt\n",
        "means =df.groupby('direction')['sentiment'].mean()\n",
        "plt.bar(means.index, means.values)\n",
        "plt.title('Mean sentiment values by category')\n",
        "plt.xlabel('Category')\n",
        "plt.ylabel('Mean value')\n",
        "plt.show()\n"
      ],
      "metadata": {
        "colab": {
          "base_uri": "https://localhost:8080/",
          "height": 472
        },
        "id": "poULY3eKd9kI",
        "outputId": "da725750-babd-4dbf-e920-6dc2b80e9add"
      },
      "execution_count": 5,
      "outputs": [
        {
          "output_type": "display_data",
          "data": {
            "text/plain": [
              "<Figure size 640x480 with 1 Axes>"
            ],
            "image/png": "[encoded data removed]"
          },
          "metadata": {}
        }
      ]
    }
  ]
}