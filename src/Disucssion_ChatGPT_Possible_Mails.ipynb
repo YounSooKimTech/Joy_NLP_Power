{
  "nbformat": 4,
  "nbformat_minor": 0,
  "metadata": {
    "colab": {
      "provenance": [],
      "authorship_tag": "ABX9TyO8OUJLr6rMCQ17me3+1NGU",
      "include_colab_link": true
    },
    "kernelspec": {
      "name": "python3",
      "display_name": "Python 3"
    },
    "language_info": {
      "name": "python"
    }
  },
  "cells": [
    {
      "cell_type": "markdown",
      "metadata": {
        "id": "view-in-github",
        "colab_type": "text"
      },
      "source": [
        "<a href=\"https://colab.research.google.com/github/YounSooKimTech/Joy_NLP_Power/blob/main/src/Disucssion_ChatGPT_Possible_Mails.ipynb\" target=\"_parent\"><img src=\"https://colab.research.google.com/assets/colab-badge.svg\" alt=\"Open In Colab\"/></a>"
      ]
    },
    {
      "cell_type": "code",
      "source": [
        "import nltk\n",
        "from nltk.tokenize import word_tokenize\n",
        "from nltk.corpus import stopwords\n",
        "import string\n",
        "\n",
        "nltk.download('punkt')\n",
        "nltk.download('stopwords')\n"
      ],
      "metadata": {
        "colab": {
          "base_uri": "https://localhost:8080/"
        },
        "id": "q67GflCshaij",
        "outputId": "981cd5bb-4bc8-4710-ed52-dab7fc410457"
      },
      "execution_count": 25,
      "outputs": [
        {
          "output_type": "stream",
          "name": "stderr",
          "text": [
            "[nltk_data] Downloading package punkt to /root/nltk_data...\n",
            "[nltk_data]   Package punkt is already up-to-date!\n",
            "[nltk_data] Downloading package stopwords to /root/nltk_data...\n",
            "[nltk_data]   Package stopwords is already up-to-date!\n"
          ]
        },
        {
          "output_type": "execute_result",
          "data": {
            "text/plain": [
              "True"
            ]
          },
          "metadata": {},
          "execution_count": 25
        }
      ]
    },
    {
      "cell_type": "code",
      "source": [
        "import requests\n",
        "\n",
        "file_url1 = \"https://raw.githubusercontent.com/YounSooKimTech/Joy_NLP_Power/main/data/Letter_To_Boss.txt\"\n",
        "response1 = requests.get(file_url1)\n",
        "\n",
        "file_url2 = \"https://raw.githubusercontent.com/YounSooKimTech/Joy_NLP_Power/main/data/letter_To_Employee.txt\"\n",
        "response2 = requests.get(file_url2)\n",
        "\n",
        "text_to_boss =response1.text\n",
        "text_to_employee = response2.text\n",
        "\n",
        "print(text_to_boss[:50], \"\\n\\n\")\n",
        "print(text_to_employee[:50])"
      ],
      "metadata": {
        "colab": {
          "base_uri": "https://localhost:8080/"
        },
        "id": "69ZV8EckiRbH",
        "outputId": "a4f5c9cc-3218-4f1c-a752-a3c268ef355d"
      },
      "execution_count": 26,
      "outputs": [
        {
          "output_type": "stream",
          "name": "stdout",
          "text": [
            "Dear [Boss's Name],\r\n",
            "\r\n",
            "I hope this letter finds yo \n",
            "\n",
            "\n",
            "Dear [Employee's Name],\r\n",
            "\r\n",
            "I hope this letter find\n"
          ]
        }
      ]
    },
    {
      "cell_type": "code",
      "source": [
        "# mail to boss\n",
        "\n",
        "stopwords = set(stopwords.words('english'))  # Set of English stopwords\n",
        "punctuation = set(string.punctuation)\n",
        "\n",
        "tokens= word_tokenize(text_to_boss)\n",
        "filtered_tokens = [token for token in tokens if token.lower() not in stopwords and token not in punctuation]\n",
        "\n",
        "print(len(filtered_tokens))\n"
      ],
      "metadata": {
        "colab": {
          "base_uri": "https://localhost:8080/"
        },
        "id": "innp1622d8oe",
        "outputId": "0f9f1de8-6c93-4efd-9f7a-e4fce100fc9a"
      },
      "execution_count": 27,
      "outputs": [
        {
          "output_type": "stream",
          "name": "stdout",
          "text": [
            "270\n"
          ]
        }
      ]
    },
    {
      "cell_type": "code",
      "source": [
        "# mail to boss\n",
        "\n",
        "tokens= word_tokenize(text_to_employee)\n",
        "filtered_tokens = [token for token in tokens if token.lower() not in stopwords and token not in punctuation]\n",
        "\n",
        "print(len(filtered_tokens))\n"
      ],
      "metadata": {
        "colab": {
          "base_uri": "https://localhost:8080/"
        },
        "id": "7h8EeSL4izw6",
        "outputId": "eb8ffeab-6e30-40a9-9970-93ea6c66e494"
      },
      "execution_count": 28,
      "outputs": [
        {
          "output_type": "stream",
          "name": "stdout",
          "text": [
            "233\n"
          ]
        }
      ]
    }
  ]
}