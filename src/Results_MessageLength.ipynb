{
  "nbformat": 4,
  "nbformat_minor": 0,
  "metadata": {
    "colab": {
      "provenance": [],
      "authorship_tag": "ABX9TyMsE/3NhUvgGP2/DNlFeb01",
      "include_colab_link": true
    },
    "kernelspec": {
      "name": "python3",
      "display_name": "Python 3"
    },
    "language_info": {
      "name": "python"
    }
  },
  "cells": [
    {
      "cell_type": "markdown",
      "metadata": {
        "id": "view-in-github",
        "colab_type": "text"
      },
      "source": [
        "<a href=\"https://colab.research.google.com/github/YounSooKimTech/Joy_NLP_Power/blob/main/Results_MessageLength.ipynb\" target=\"_parent\"><img src=\"https://colab.research.google.com/assets/colab-badge.svg\" alt=\"Open In Colab\"/></a>"
      ]
    },
    {
      "cell_type": "code",
      "source": [
        "import pandas as pd\n",
        "\n",
        "df = pd.read_csv('https://raw.githubusercontent.com/YounSooKimTech/Joy_NLP_Power/main/data/Enron_merged_df.csv')\n",
        "df.fillna('', inplace=True)\n"
      ],
      "metadata": {
        "id": "0KbEqbrwbs54"
      },
      "execution_count": 8,
      "outputs": []
    },
    {
      "cell_type": "code",
      "source": [
        "# number of tokens\n",
        "\n",
        "df[\"n_tokens\"] = df[\"tokens\"].apply(len)\n",
        "df[\"n_cleaned_tokens\"] = df[\"cleaned_tokens\"].apply(len)"
      ],
      "metadata": {
        "id": "9okhzM_6b6vE"
      },
      "execution_count": 9,
      "outputs": []
    },
    {
      "cell_type": "code",
      "source": [
        "# descriptive statistics for each directions\n",
        "\n",
        "print(df.groupby(\"direction\")[\"tokens\"].apply(lambda x: x.apply(len).mean()))\n",
        "\n",
        "print(\"\\n\")\n",
        "\n",
        "print(df.groupby(\"direction\")[\"cleaned_tokens\"].apply(lambda x: x.apply(len).mean()))\n"
      ],
      "metadata": {
        "colab": {
          "base_uri": "https://localhost:8080/"
        },
        "id": "na2i8VVMb4KF",
        "outputId": "b7fb4e03-b71a-4d64-e5ff-9b9542ee7fea"
      },
      "execution_count": 10,
      "outputs": [
        {
          "output_type": "stream",
          "name": "stdout",
          "text": [
            "direction\n",
            "downward    222.223089\n",
            "same        291.542440\n",
            "upward      409.653355\n",
            "Name: tokens, dtype: float64\n",
            "\n",
            "\n",
            "direction\n",
            "downward    126.313573\n",
            "same        159.964191\n",
            "upward      236.500000\n",
            "Name: cleaned_tokens, dtype: float64\n"
          ]
        }
      ]
    },
    {
      "cell_type": "code",
      "source": [
        "# ANOVA and posthoc\n",
        "\n",
        "import pandas as pd\n",
        "import statsmodels.api as sm\n",
        "from statsmodels.formula.api import ols\n",
        "from statsmodels.stats.multicomp import pairwise_tukeyhsd\n",
        "\n",
        "# fit an ANOVA model with the 'values' column as the dependent variable and the 'group' column as the independent variable\n",
        "model = ols('n_cleaned_tokens ~ C(direction)', data=df).fit()\n",
        "\n",
        "# perform an ANOVA test\n",
        "anova_table = sm.stats.anova_lm(model, typ=2)\n",
        "\n",
        "# print the ANOVA table\n",
        "print(anova_table)\n",
        "print(\"\\n\\n\")\n",
        "\n",
        "# perform Tukey's HSD test\n",
        "tukey_results = pairwise_tukeyhsd(df['n_cleaned_tokens'], df['direction'])\n",
        "\n",
        "# print the Tukey's HSD results\n",
        "print(tukey_results)\n",
        "print(\"\\n\\n\")\n",
        "\n"
      ],
      "metadata": {
        "colab": {
          "base_uri": "https://localhost:8080/"
        },
        "id": "QH61GN9nb_Mg",
        "outputId": "98953bfc-0c13-440d-d785-f9b6858914e6"
      },
      "execution_count": 11,
      "outputs": [
        {
          "output_type": "stream",
          "name": "stdout",
          "text": [
            "                    sum_sq      df         F    PR(>F)\n",
            "C(direction)  4.049455e+06     2.0  5.430588  0.004445\n",
            "Residual      7.523863e+08  2018.0       NaN       NaN\n",
            "\n",
            "\n",
            "\n",
            "  Multiple Comparison of Means - Tukey HSD, FWER=0.05  \n",
            "=======================================================\n",
            " group1  group2 meandiff p-adj   lower   upper   reject\n",
            "-------------------------------------------------------\n",
            "downward   same  33.6506 0.5606  -43.29 110.5912  False\n",
            "downward upward 110.1864 0.0038 29.7125 190.6604   True\n",
            "    same upward  76.5358 0.0535 -0.9014 153.9731  False\n",
            "-------------------------------------------------------\n",
            "\n",
            "\n",
            "\n"
          ]
        }
      ]
    },
    {
      "cell_type": "code",
      "source": [
        "# graph for group means\n",
        "\n",
        "import matplotlib.pyplot as plt\n",
        "means =df.groupby('direction')['n_cleaned_tokens'].mean()\n",
        "plt.bar(means.index, means.values)\n",
        "plt.title('Mean values by category')\n",
        "plt.xlabel('Category')\n",
        "plt.ylabel('Mean value')\n",
        "plt.show()\n"
      ],
      "metadata": {
        "colab": {
          "base_uri": "https://localhost:8080/",
          "height": 472
        },
        "id": "bi5CP4OEcVJ_",
        "outputId": "7845ddbf-a2cb-42a1-964b-63275cc73aa8"
      },
      "execution_count": 12,
      "outputs": [
        {
          "output_type": "display_data",
          "data": {
            "text/plain": [
              "<Figure size 640x480 with 1 Axes>"
            ],
            "image/png": "[encoded data removed]"
          },
          "metadata": {}
        }
      ]
    }
  ]
}
