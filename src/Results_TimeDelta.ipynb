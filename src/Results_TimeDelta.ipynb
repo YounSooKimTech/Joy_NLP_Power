{
  "nbformat": 4,
  "nbformat_minor": 0,
  "metadata": {
    "colab": {
      "provenance": [],
      "authorship_tag": "ABX9TyP2k0K7W3M4JVXH1z/RFLfN",
      "include_colab_link": true
    },
    "kernelspec": {
      "name": "python3",
      "display_name": "Python 3"
    },
    "language_info": {
      "name": "python"
    }
  },
  "cells": [
    {
      "cell_type": "markdown",
      "metadata": {
        "id": "view-in-github",
        "colab_type": "text"
      },
      "source": [
        "<a href=\"https://colab.research.google.com/github/YounSooKimTech/Joy_NLP_Power/blob/main/src/Results_TimeDelta.ipynb\" target=\"_parent\"><img src=\"https://colab.research.google.com/assets/colab-badge.svg\" alt=\"Open In Colab\"/></a>"
      ]
    },
    {
      "cell_type": "code",
      "source": [
        "import warnings\n",
        "warnings.filterwarnings(\"ignore\")"
      ],
      "metadata": {
        "id": "lV8TEjefgEC3"
      },
      "execution_count": 1,
      "outputs": []
    },
    {
      "cell_type": "code",
      "execution_count": 2,
      "metadata": {
        "id": "lYePDYDEf3zH"
      },
      "outputs": [],
      "source": [
        "import pandas as pd\n",
        "\n",
        "df = pd.read_csv('https://raw.githubusercontent.com/YounSooKimTech/Joy_NLP_Power/main/data/Enron_merged_df.csv')\n",
        "df.fillna('', inplace=True)"
      ]
    },
    {
      "cell_type": "code",
      "source": [
        "\n",
        "df_re = df[df[\"Subject\"].str.startswith(\"RE:\")]\n",
        "df_re = df_re.reset_index(drop=True)\n",
        "\n",
        "print(df.shape, df_re.shape)"
      ],
      "metadata": {
        "colab": {
          "base_uri": "https://localhost:8080/"
        },
        "id": "9l0vmHHef6Tp",
        "outputId": "f4f43dcc-b77e-44ef-f128-6222cad17eb3"
      },
      "execution_count": 3,
      "outputs": [
        {
          "output_type": "stream",
          "name": "stdout",
          "text": [
            "(2021, 20) (73, 20)\n"
          ]
        }
      ]
    },
    {
      "cell_type": "code",
      "source": [
        "# check the influence of capital\n",
        "re = [\"RE:\", \"re:\"]\n",
        "\n",
        "df_re1 = df[df[\"Subject\"].str.startswith(tuple(re))]\n",
        "df_re1 = df_re.reset_index(drop=True)\n",
        "\n",
        "print(df_re.shape, df_re.shape, df_re1.shape)\n"
      ],
      "metadata": {
        "colab": {
          "base_uri": "https://localhost:8080/"
        },
        "id": "5o7z9jeygIWg",
        "outputId": "fed36114-18f3-4d05-e5de-b2b5876a0489"
      },
      "execution_count": 4,
      "outputs": [
        {
          "output_type": "stream",
          "name": "stdout",
          "text": [
            "(73, 20) (73, 20) (73, 20)\n"
          ]
        }
      ]
    },
    {
      "cell_type": "code",
      "source": [
        "df_re_org = df_re[[\"message\", \"direction\"]]\n",
        "\n",
        "df_re_org[\"re\"] = df_re[\"message\"].str.split(' -----Original Message-----|---------------------- Forwarded|\\n\\n\\n\\n', expand=True)[0]\n",
        "df_re_org[\"org\"] = df_re[\"message\"].str.split(' -----Original Message-----|---------------------- Forwarded|\\n\\n\\n\\n', expand=True)[1]\n",
        "\n",
        "df_re_org['index_column'] = range(0, len(df_re_org))\n",
        "\n",
        "# Set the new column as the index\n",
        "df_re_org = df_re_org.set_index('index_column')\n",
        "\n",
        "print(df_re_org.shape)\n",
        "\n",
        "df_re_org['org'] = df_re_org['org'].astype(str)\n",
        "df_re_org['re'] = df_re_org['re'].astype(str)"
      ],
      "metadata": {
        "colab": {
          "base_uri": "https://localhost:8080/"
        },
        "id": "2jZwa335gMc1",
        "outputId": "8e0797e8-5410-4801-8734-b7298684b427"
      },
      "execution_count": 5,
      "outputs": [
        {
          "output_type": "stream",
          "name": "stdout",
          "text": [
            "(73, 4)\n"
          ]
        }
      ]
    },
    {
      "cell_type": "code",
      "source": [
        "# original message information\n",
        "import re\n",
        "\n",
        "def get_from(x):\n",
        "    match = re.search(r\"From:\\s+(.*)\\s+Sent:\", x)\n",
        "    return match.group(1).strip() if match else ''\n",
        "\n",
        "def get_sent(x):\n",
        "    match = re.search(r\"Sent:\\s+(.*)\\s+To:\", x)\n",
        "    return match.group(1).strip() if match else ''\n",
        "\n",
        "def get_to(x):\n",
        "    match = re.search(r\"To:\\s+(.*)\\s+Subject:\", x)\n",
        "    return match.group(1).strip() if match else ''\n",
        "\n",
        "def get_subject(x):\n",
        "    match = re.search(r\"Subject:\\s+(.*)\\s+\", x)\n",
        "    return match.group(1).strip() if match else ''\n",
        "\n",
        "df_re_org['Org_Sent'] = df_re_org['org'].apply(get_sent)\n",
        "df_re_org['Org_From'] = df_re_org['org'].apply(get_from)\n",
        "df_re_org['Org_To'] = df_re_org['org'].apply(get_to)\n",
        "df_re_org['Org_Subject'] = df_re_org['org'].apply(get_subject)\n"
      ],
      "metadata": {
        "id": "AK7c44RigVMi"
      },
      "execution_count": 6,
      "outputs": []
    },
    {
      "cell_type": "code",
      "source": [
        "# reply message information\n",
        "\n",
        "import re\n",
        "\n",
        "def get_from(x):\n",
        "    match = re.search(r\"From:\\s+(.*)\\s+Sent:\", x)\n",
        "    return match.group(1).strip() if match else ''\n",
        "\n",
        "def get_date(x):\n",
        "    match = re.search(r\"\\w{3}, \\d{2} \\w{3} \\d{4} \\d{2}:\\d{2}:\\d{2} [+-]\\d{4} \\(\\w{3}\\)\", x)\n",
        "    return match.group().strip() if match else ''\n",
        "    \n",
        "def get_to(x):\n",
        "    match = re.search(r\"To:\\s+(.*)\\s+Subject:\", x)\n",
        "    return match.group(1).strip() if match else ''\n",
        "\n",
        "def get_subject(x):\n",
        "    match = re.search(r\"Subject:\\s+(.*)\\s+\", x)\n",
        "    return match.group(1).strip() if match else ''\n",
        "\n",
        "df_re_org['RE_Sent'] = df_re_org['re'].apply(get_date)\n",
        "df_re_org['RE_From'] = df_re_org['re'].apply(get_from)\n",
        "df_re_org['RE_To'] = df_re_org['re'].apply(get_to)\n",
        "df_re_org['RE_Subject'] = df_re_org['re'].apply(get_subject)\n"
      ],
      "metadata": {
        "id": "337wZknNgINA"
      },
      "execution_count": 7,
      "outputs": []
    },
    {
      "cell_type": "code",
      "source": [
        "# arrange and reorder columns\n",
        "df_result = df_re_org\n",
        "df_result = df_result.fillna('')\n",
        "df_result = df_result.rename(columns={'direction': 'reply_direction'})"
      ],
      "metadata": {
        "id": "zhce0Mr9gdWQ"
      },
      "execution_count": 8,
      "outputs": []
    },
    {
      "cell_type": "code",
      "source": [
        "# convert timezones\n",
        "\n",
        "import pandas as pd\n",
        "from datetime import datetime, timezone\n",
        "\n",
        "def convert_to_utc(date_str):\n",
        "    if not date_str:\n",
        "        return None\n",
        "    # Remove the timezone string\n",
        "    date_str_no_tz = re.sub(r'\\s*\\([^)]*\\)', '', date_str)\n",
        "    # Parse the date string\n",
        "    date_obj = datetime.strptime(date_str_no_tz, '%a, %d %b %Y %H:%M:%S %z')\n",
        "    # Set the timezone to UTC\n",
        "    date_obj_utc = date_obj.astimezone(timezone.utc)\n",
        "    # Format the date string in the desired format\n",
        "    return date_obj_utc.strftime('%Y-%m-%d %H:%M')\n",
        "\n",
        "# Apply the function to the Sent_Date column and create a new column with the converted dates\n",
        "df_result['RE_Sent_GTC'] = df_result['RE_Sent'].apply(convert_to_utc)\n",
        "\n",
        "\n",
        "# Change ORG date format\n",
        "import pandas as pd\n",
        "from datetime import datetime\n",
        "\n",
        "# define the function to parse and format the date\n",
        "def parse_date(date_str):\n",
        "    if not date_str:\n",
        "        return None\n",
        "    date_obj = datetime.strptime(date_str, '%A, %B %d, %Y %I:%M %p')\n",
        "    formatted_date_str = date_obj.strftime('%Y-%m-%d %H:%M')\n",
        "    return formatted_date_str\n",
        "\n",
        "# apply the function to the Org_Sent column\n",
        "df_result['Org_Sent_Converted'] = df_result['Org_Sent'].apply(parse_date)\n"
      ],
      "metadata": {
        "id": "7546wWrRgh1Y"
      },
      "execution_count": 9,
      "outputs": []
    },
    {
      "cell_type": "code",
      "source": [
        "# calculate the delta time\n",
        "\n",
        "import pandas as pd\n",
        "\n",
        "# Convert the datetime columns to datetime data type\n",
        "df_result[\"RE_Sent_GTC\"] = pd.to_datetime(df_result[\"RE_Sent_GTC\"])\n",
        "df_result[\"Org_Sent_Converted\"] = pd.to_datetime(df_result[\"Org_Sent_Converted\"])\n",
        "\n",
        "# Calculate the time difference in minutes\n",
        "df_result[\"diff\"] = (df_result[\"RE_Sent_GTC\"] - df_result[\"Org_Sent_Converted\"]).dt.total_seconds() / 60\n"
      ],
      "metadata": {
        "id": "1br9CJ4-gmr2"
      },
      "execution_count": 10,
      "outputs": []
    },
    {
      "cell_type": "code",
      "source": [
        "# descriptive stats \n",
        "\n",
        "print(df_result.shape, \"\\n\\n\")\n",
        "\n",
        "print(df_result[\"reply_direction\"].value_counts(), \"\\n\\n\")\n",
        "\n",
        "print(df_result.groupby(\"reply_direction\")[\"diff\"].mean().round(2))\n",
        "print(\"\\n\\n\")\n",
        "\n",
        "print(df_result.groupby(\"reply_direction\")[\"diff\"].std().round(2))\n",
        "\n"
      ],
      "metadata": {
        "colab": {
          "base_uri": "https://localhost:8080/"
        },
        "id": "GaxPBSJMgqwg",
        "outputId": "18910f84-810a-4614-cc4e-5428ff20313f"
      },
      "execution_count": 11,
      "outputs": [
        {
          "output_type": "stream",
          "name": "stdout",
          "text": [
            "(73, 15) \n",
            "\n",
            "\n",
            "downward    47\n",
            "same        16\n",
            "upward      10\n",
            "Name: reply_direction, dtype: int64 \n",
            "\n",
            "\n",
            "reply_direction\n",
            "downward    2244.48\n",
            "same         520.14\n",
            "upward      1117.50\n",
            "Name: diff, dtype: float64\n",
            "\n",
            "\n",
            "\n",
            "reply_direction\n",
            "downward    3049.63\n",
            "same         486.29\n",
            "upward       419.31\n",
            "Name: diff, dtype: float64\n"
          ]
        }
      ]
    },
    {
      "cell_type": "code",
      "source": [
        "# Non-parametric ANOVA, Kruskal TEST\n",
        "\n",
        "\n",
        "df_result = df_result.dropna(subset=\"diff\")\n",
        "print(df_result.shape)\n",
        "print(df_result.groupby(\"reply_direction\")[\"diff\"].median())\n",
        "\n",
        "\n",
        "up_group = df_result[df_result[\"reply_direction\"] == \"upward\"][\"diff\"]\n",
        "same_group = df_result[df_result[\"reply_direction\"] == \"same\"][\"diff\"]\n",
        "down_group = df_result[df_result[\"reply_direction\"] == \"downward\"][\"diff\"]\n",
        "\n",
        "\n",
        "# number of samples for each groups\n",
        "print(len(up_group),len(same_group), len(down_group))\n",
        "print(\"\\n\\n\")\n",
        "\n",
        "\n",
        "from scipy import stats\n",
        "print(stats.kruskal(up_group, same_group, down_group))\n"
      ],
      "metadata": {
        "colab": {
          "base_uri": "https://localhost:8080/"
        },
        "id": "ndSqRz1-gyXb",
        "outputId": "da31dd84-47fa-41ed-9a71-f7fb304ef0b1"
      },
      "execution_count": 12,
      "outputs": [
        {
          "output_type": "stream",
          "name": "stdout",
          "text": [
            "(34, 15)\n",
            "reply_direction\n",
            "downward     653.0\n",
            "same         483.0\n",
            "upward      1117.5\n",
            "Name: diff, dtype: float64\n",
            "2 7 25\n",
            "\n",
            "\n",
            "\n",
            "KruskalResult(statistic=2.5213936430317903, pvalue=0.28345643912059854)\n"
          ]
        }
      ]
    },
    {
      "cell_type": "code",
      "source": [
        "# Graph for group means\n",
        "\n",
        "import matplotlib.pyplot as plt\n",
        "means =df_result.groupby('reply_direction')['diff'].mean()\n",
        "plt.bar(means.index, means.values)\n",
        "plt.title('Time Difference Until Reply in Minutes')\n",
        "plt.xlabel('Reply Direction')\n",
        "plt.ylabel('Mean Time Difference(minutes)')\n",
        "# plt.show()\n",
        "\n",
        "plt.savefig('delta time reply.jpg', dpi=300)  "
      ],
      "metadata": {
        "colab": {
          "base_uri": "https://localhost:8080/",
          "height": 472
        },
        "id": "0hmBZ-dLhCAL",
        "outputId": "6fd6c7d6-d957-4ab6-b56c-5a427858ea17"
      },
      "execution_count": 13,
      "outputs": [
        {
          "output_type": "display_data",
          "data": {
            "text/plain": [
              "<Figure size 640x480 with 1 Axes>"
            ],
            "image/png": "[encoded data removed]"
          },
          "metadata": {}
        }
      ]
    }
  ]
}