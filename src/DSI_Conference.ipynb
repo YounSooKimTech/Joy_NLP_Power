{
  "nbformat": 4,
  "nbformat_minor": 0,
  "metadata": {
    "colab": {
      "provenance": [],
      "authorship_tag": "ABX9TyMvC06LhhSOouROXCRc2MvS",
      "include_colab_link": true
    },
    "kernelspec": {
      "name": "python3",
      "display_name": "Python 3"
    },
    "language_info": {
      "name": "python"
    }
  },
  "cells": [
    {
      "cell_type": "markdown",
      "metadata": {
        "id": "view-in-github",
        "colab_type": "text"
      },
      "source": [
        "<a href=\"https://colab.research.google.com/github/YounSooKimTech/Joy_NLP_Power/blob/main/DSI_Conference.ipynb\" target=\"_parent\"><img src=\"https://colab.research.google.com/assets/colab-badge.svg\" alt=\"Open In Colab\"/></a>"
      ]
    },
    {
      "cell_type": "markdown",
      "source": [
        "# Install Libraries"
      ],
      "metadata": {
        "id": "J8ntUoAIETfG"
      }
    },
    {
      "cell_type": "code",
      "source": [
        "! pip install spacy\n",
        "! pip install textblob\n",
        "! pip install vaderSentiment\n",
        "#! python -m spacy download en_core_web_md"
      ],
      "metadata": {
        "colab": {
          "base_uri": "https://localhost:8080/"
        },
        "id": "jl_SzfiyYBbq",
        "outputId": "34bc0dfb-20e8-4c20-b1a5-3fad31ce7a2a"
      },
      "execution_count": 1,
      "outputs": [
        {
          "output_type": "stream",
          "name": "stdout",
          "text": [
            "Requirement already satisfied: spacy in /usr/local/lib/python3.10/dist-packages (3.6.1)\n",
            "Requirement already satisfied: spacy-legacy<3.1.0,>=3.0.11 in /usr/local/lib/python3.10/dist-packages (from spacy) (3.0.12)\n",
            "Requirement already satisfied: spacy-loggers<2.0.0,>=1.0.0 in /usr/local/lib/python3.10/dist-packages (from spacy) (1.0.5)\n",
            "Requirement already satisfied: murmurhash<1.1.0,>=0.28.0 in /usr/local/lib/python3.10/dist-packages (from spacy) (1.0.10)\n",
            "Requirement already satisfied: cymem<2.1.0,>=2.0.2 in /usr/local/lib/python3.10/dist-packages (from spacy) (2.0.8)\n",
            "Requirement already satisfied: preshed<3.1.0,>=3.0.2 in /usr/local/lib/python3.10/dist-packages (from spacy) (3.0.9)\n",
            "Requirement already satisfied: thinc<8.2.0,>=8.1.8 in /usr/local/lib/python3.10/dist-packages (from spacy) (8.1.12)\n",
            "Requirement already satisfied: wasabi<1.2.0,>=0.9.1 in /usr/local/lib/python3.10/dist-packages (from spacy) (1.1.2)\n",
            "Requirement already satisfied: srsly<3.0.0,>=2.4.3 in /usr/local/lib/python3.10/dist-packages (from spacy) (2.4.8)\n",
            "Requirement already satisfied: catalogue<2.1.0,>=2.0.6 in /usr/local/lib/python3.10/dist-packages (from spacy) (2.0.10)\n",
            "Requirement already satisfied: typer<0.10.0,>=0.3.0 in /usr/local/lib/python3.10/dist-packages (from spacy) (0.9.0)\n",
            "Requirement already satisfied: pathy>=0.10.0 in /usr/local/lib/python3.10/dist-packages (from spacy) (0.10.3)\n",
            "Requirement already satisfied: smart-open<7.0.0,>=5.2.1 in /usr/local/lib/python3.10/dist-packages (from spacy) (6.4.0)\n",
            "Requirement already satisfied: tqdm<5.0.0,>=4.38.0 in /usr/local/lib/python3.10/dist-packages (from spacy) (4.66.1)\n",
            "Requirement already satisfied: numpy>=1.15.0 in /usr/local/lib/python3.10/dist-packages (from spacy) (1.23.5)\n",
            "Requirement already satisfied: requests<3.0.0,>=2.13.0 in /usr/local/lib/python3.10/dist-packages (from spacy) (2.31.0)\n",
            "Requirement already satisfied: pydantic!=1.8,!=1.8.1,<3.0.0,>=1.7.4 in /usr/local/lib/python3.10/dist-packages (from spacy) (1.10.13)\n",
            "Requirement already satisfied: jinja2 in /usr/local/lib/python3.10/dist-packages (from spacy) (3.1.2)\n",
            "Requirement already satisfied: setuptools in /usr/local/lib/python3.10/dist-packages (from spacy) (67.7.2)\n",
            "Requirement already satisfied: packaging>=20.0 in /usr/local/lib/python3.10/dist-packages (from spacy) (23.2)\n",
            "Requirement already satisfied: langcodes<4.0.0,>=3.2.0 in /usr/local/lib/python3.10/dist-packages (from spacy) (3.3.0)\n",
            "Requirement already satisfied: typing-extensions>=4.2.0 in /usr/local/lib/python3.10/dist-packages (from pydantic!=1.8,!=1.8.1,<3.0.0,>=1.7.4->spacy) (4.5.0)\n",
            "Requirement already satisfied: charset-normalizer<4,>=2 in /usr/local/lib/python3.10/dist-packages (from requests<3.0.0,>=2.13.0->spacy) (3.3.2)\n",
            "Requirement already satisfied: idna<4,>=2.5 in /usr/local/lib/python3.10/dist-packages (from requests<3.0.0,>=2.13.0->spacy) (3.4)\n",
            "Requirement already satisfied: urllib3<3,>=1.21.1 in /usr/local/lib/python3.10/dist-packages (from requests<3.0.0,>=2.13.0->spacy) (2.0.7)\n",
            "Requirement already satisfied: certifi>=2017.4.17 in /usr/local/lib/python3.10/dist-packages (from requests<3.0.0,>=2.13.0->spacy) (2023.7.22)\n",
            "Requirement already satisfied: blis<0.8.0,>=0.7.8 in /usr/local/lib/python3.10/dist-packages (from thinc<8.2.0,>=8.1.8->spacy) (0.7.11)\n",
            "Requirement already satisfied: confection<1.0.0,>=0.0.1 in /usr/local/lib/python3.10/dist-packages (from thinc<8.2.0,>=8.1.8->spacy) (0.1.3)\n",
            "Requirement already satisfied: click<9.0.0,>=7.1.1 in /usr/local/lib/python3.10/dist-packages (from typer<0.10.0,>=0.3.0->spacy) (8.1.7)\n",
            "Requirement already satisfied: MarkupSafe>=2.0 in /usr/local/lib/python3.10/dist-packages (from jinja2->spacy) (2.1.3)\n",
            "Requirement already satisfied: textblob in /usr/local/lib/python3.10/dist-packages (0.17.1)\n",
            "Requirement already satisfied: nltk>=3.1 in /usr/local/lib/python3.10/dist-packages (from textblob) (3.8.1)\n",
            "Requirement already satisfied: click in /usr/local/lib/python3.10/dist-packages (from nltk>=3.1->textblob) (8.1.7)\n",
            "Requirement already satisfied: joblib in /usr/local/lib/python3.10/dist-packages (from nltk>=3.1->textblob) (1.3.2)\n",
            "Requirement already satisfied: regex>=2021.8.3 in /usr/local/lib/python3.10/dist-packages (from nltk>=3.1->textblob) (2023.6.3)\n",
            "Requirement already satisfied: tqdm in /usr/local/lib/python3.10/dist-packages (from nltk>=3.1->textblob) (4.66.1)\n",
            "Requirement already satisfied: vaderSentiment in /usr/local/lib/python3.10/dist-packages (3.3.2)\n",
            "Requirement already satisfied: requests in /usr/local/lib/python3.10/dist-packages (from vaderSentiment) (2.31.0)\n",
            "Requirement already satisfied: charset-normalizer<4,>=2 in /usr/local/lib/python3.10/dist-packages (from requests->vaderSentiment) (3.3.2)\n",
            "Requirement already satisfied: idna<4,>=2.5 in /usr/local/lib/python3.10/dist-packages (from requests->vaderSentiment) (3.4)\n",
            "Requirement already satisfied: urllib3<3,>=1.21.1 in /usr/local/lib/python3.10/dist-packages (from requests->vaderSentiment) (2.0.7)\n",
            "Requirement already satisfied: certifi>=2017.4.17 in /usr/local/lib/python3.10/dist-packages (from requests->vaderSentiment) (2023.7.22)\n"
          ]
        }
      ]
    },
    {
      "cell_type": "markdown",
      "source": [
        "# Demonstration for Word to Tokens"
      ],
      "metadata": {
        "id": "cFZdr6QWX7xK"
      }
    },
    {
      "cell_type": "code",
      "source": [
        "import spacy\n",
        "\n",
        "nlp = spacy.load(\"en_core_web_sm\")\n",
        "\n",
        "# Camus Stranger\n",
        "text = \"Mother died today. Or maybe, yesterday; I can not be sure.\"\n",
        "print(\"Text:\", text, \"\\n\")\n",
        "\n",
        "doc = nlp(text)\n",
        "\n",
        "lower_lemmatized_words = [token.lemma_.lower() for token in doc if token.text.isalpha() and not token.is_stop]\n",
        "print(\"Preprocessed:\", lower_lemmatized_words)"
      ],
      "metadata": {
        "id": "GRE8pia_VwE0",
        "colab": {
          "base_uri": "https://localhost:8080/"
        },
        "outputId": "f1529a4b-a8e8-4d7c-b773-759281a2ead9"
      },
      "execution_count": 2,
      "outputs": [
        {
          "output_type": "stream",
          "name": "stdout",
          "text": [
            "Text: Mother died today. Or maybe, yesterday; I can not be sure. \n",
            "\n",
            "Preprocessed: ['mother', 'die', 'today', 'maybe', 'yesterday', 'sure']\n"
          ]
        }
      ]
    },
    {
      "cell_type": "code",
      "source": [
        "from textblob import TextBlob\n",
        "from vaderSentiment.vaderSentiment import SentimentIntensityAnalyzer\n",
        "\n",
        "# Camus Stranger\n",
        "text = \"Mother died today. Or maybe, yesterday; I can not be sure.\"\n",
        "\n",
        "# TextBlob\n",
        "def get_textblob_sentiment(text):\n",
        "    blob = TextBlob(text)\n",
        "    return blob.sentiment.polarity\n",
        "# Vader\n",
        "def get_vader_sentiment(text):\n",
        "    analyzer = SentimentIntensityAnalyzer()\n",
        "    sentiment_scores = analyzer.polarity_scores(text)\n",
        "    return sentiment_scores['compound']\n",
        "\n",
        "print(\"TextBlob:\", get_textblob_sentiment(text))\n",
        "print(\"Vader:\", get_vader_sentiment(text))"
      ],
      "metadata": {
        "id": "FovkA5kWEKlO",
        "colab": {
          "base_uri": "https://localhost:8080/"
        },
        "outputId": "b56c8418-c9b1-4d41-f91e-a52be415d84d"
      },
      "execution_count": 3,
      "outputs": [
        {
          "output_type": "stream",
          "name": "stdout",
          "text": [
            "TextBlob: 0.5\n",
            "Vader: -0.6769\n"
          ]
        }
      ]
    },
    {
      "cell_type": "code",
      "source": [
        "import spacy\n",
        "\n",
        "nlp = spacy.load(\"en_core_web_sm\")\n",
        "\n",
        "# Camus Stranger\n",
        "text = \"Mother died today. Or maybe, yesterday; I can not be sure.\"\n",
        "print(\"Text:\", text, \"\\n\")\n",
        "\n",
        "doc = nlp(text)\n",
        "\n",
        "words = [token.text for token in doc]\n",
        "print(\"Tokens:\", words, \"\\n\")\n",
        "\n",
        "filtered_words = [token.text for token in doc if not token.is_stop]\n",
        "print(\"Tokens without stopwords:\", filtered_words, \"\\n\")\n",
        "\n",
        "words = [token.text for token in doc if token.text.isalpha() and not token.is_stop]\n",
        "print(\"Tokens without stopwords, punctuation, and digits:\", words, \"\\n\")\n",
        "\n",
        "lower_lemmatized_words = [token.lemma_.lower() for token in doc if token.text.isalpha() and not token.is_stop]\n",
        "print(\"Tokens lower words without stopwords, punctuation, and digits:\", lower_lemmatized_words)\n"
      ],
      "metadata": {
        "colab": {
          "base_uri": "https://localhost:8080/"
        },
        "id": "-4__1B9IXIPA",
        "outputId": "ec68d571-a785-4b8a-a37b-6eae36f189ff"
      },
      "execution_count": 4,
      "outputs": [
        {
          "output_type": "stream",
          "name": "stdout",
          "text": [
            "Text: Mother died today. Or maybe, yesterday; I can not be sure. \n",
            "\n",
            "Tokens: ['Mother', 'died', 'today', '.', 'Or', 'maybe', ',', 'yesterday', ';', 'I', 'can', 'not', 'be', 'sure', '.'] \n",
            "\n",
            "Tokens without stopwords: ['Mother', 'died', 'today', '.', 'maybe', ',', 'yesterday', ';', 'sure', '.'] \n",
            "\n",
            "Tokens without stopwords, punctuation, and digits: ['Mother', 'died', 'today', 'maybe', 'yesterday', 'sure'] \n",
            "\n",
            "Tokens lower words without stopwords, punctuation, and digits: ['mother', 'die', 'today', 'maybe', 'yesterday', 'sure']\n"
          ]
        }
      ]
    },
    {
      "cell_type": "code",
      "source": [
        "def lemmatize_and_remote_stop_punct(text):\n",
        "  doc = nlp(text)\n",
        "  tokens = [token.lemma_.lower() for token in doc if token.text.isalpha() and not token.is_stop]\n",
        "  return tokens\n",
        "\n",
        "# Pride and Prejudice. Jane Austen\n",
        "text = \"It is a truth universally acknowledged, that a single man in possession of a good fortune, must be in want of a wife.\"\n",
        "\n",
        "lemmatize_and_remote_stop_punct(text)"
      ],
      "metadata": {
        "colab": {
          "base_uri": "https://localhost:8080/"
        },
        "id": "M2j2xDkcZZ_Z",
        "outputId": "39b8765f-1295-49d4-a4dc-cdb9b9bfb2e1"
      },
      "execution_count": 5,
      "outputs": [
        {
          "output_type": "execute_result",
          "data": {
            "text/plain": [
              "['truth',\n",
              " 'universally',\n",
              " 'acknowledge',\n",
              " 'single',\n",
              " 'man',\n",
              " 'possession',\n",
              " 'good',\n",
              " 'fortune',\n",
              " 'want',\n",
              " 'wife']"
            ]
          },
          "metadata": {},
          "execution_count": 5
        }
      ]
    },
    {
      "cell_type": "markdown",
      "source": [
        "# Data Preprocessing"
      ],
      "metadata": {
        "id": "TErlWnp6X-eZ"
      }
    },
    {
      "cell_type": "code",
      "source": [
        "import pandas as pd\n",
        "\n",
        "df = pd.read_csv(\"https://raw.githubusercontent.com/YounSooKimTech/Joy_NLP_Power/main/data/Enron_merged_df.csv\")\n",
        "print(df.columns)\n",
        "\n",
        "df.head()"
      ],
      "metadata": {
        "colab": {
          "base_uri": "https://localhost:8080/",
          "height": 750
        },
        "id": "SusKUW6JnrKj",
        "outputId": "c90dcede-4b39-455b-c56a-fddc693802e1"
      },
      "execution_count": 6,
      "outputs": [
        {
          "output_type": "stream",
          "name": "stdout",
          "text": [
            "Index(['Receiver_Name', 'Receiver_Email', 'Receiver_Position', 'Receiver_Rank',\n",
            "       'Sender_Name', 'Sender_Email', 'Sender_Position', 'Sender_Rank', 'file',\n",
            "       'message', 'Subject', 'Body', 'Date', 'timezone', 'content', 'Date_UTC',\n",
            "       'Sender-Receiver', 'direction', 'tokens', 'cleaned_tokens'],\n",
            "      dtype='object')\n"
          ]
        },
        {
          "output_type": "execute_result",
          "data": {
            "text/plain": [
              "  Receiver_Name          Receiver_Email Receiver_Position  Receiver_Rank  \\\n",
              "0  Andrew Lewis  andrew.lewis@enron.com    Vice President              4   \n",
              "1  Andrew Lewis  andrew.lewis@enron.com    Vice President              4   \n",
              "2  Andrew Lewis  andrew.lewis@enron.com    Vice President              4   \n",
              "3   Andy Zipper   andy.zipper@enron.com    Vice President              4   \n",
              "4   Andy Zipper   andy.zipper@enron.com    Vice President              4   \n",
              "\n",
              "      Sender_Name              Sender_Email Sender_Position  Sender_Rank  \\\n",
              "0  Hunter Shively  hunter.shively@enron.com  Vice President            4   \n",
              "1  Hunter Shively  hunter.shively@enron.com  Vice President            4   \n",
              "2      Scott Neal      scott.neal@enron.com  Vice President            4   \n",
              "3    Greg Whalley    greg.whalley@enron.com       President            5   \n",
              "4    Greg Whalley    greg.whalley@enron.com       President            5   \n",
              "\n",
              "                        file  \\\n",
              "0   lewis-a/all_documents/6.   \n",
              "1  shively-h/_sent_mail/109.   \n",
              "2       neal-s/_sent_mail/8.   \n",
              "3  whalley-l/_sent_mail/210.   \n",
              "4   whalley-l/_sent_mail/87.   \n",
              "\n",
              "                                             message  \\\n",
              "0  Message-ID: <20773283.1075848285687.JavaMail.e...   \n",
              "1  Message-ID: <5246852.1075857472118.JavaMail.ev...   \n",
              "2  Message-ID: <15966480.1075841353728.JavaMail.e...   \n",
              "3  Message-ID: <2502257.1075858067848.JavaMail.ev...   \n",
              "4  Message-ID: <17433613.1075858013333.JavaMail.e...   \n",
              "\n",
              "                          Subject  \\\n",
              "0                Western Frontier   \n",
              "1  European 10 jet stream heights   \n",
              "2                             NaN   \n",
              "3                             Re:   \n",
              "4                   RedMeteor.com   \n",
              "\n",
              "                                                Body  \\\n",
              "0  ---------------------- Forwarded by Hunter S S...   \n",
              "1  ---------------------- Forwarded by Hunter S S...   \n",
              "2  \\n---------------------- Forwarded by Scott Ne...   \n",
              "3                                   i cant open this   \n",
              "4  ---------------------- Forwarded by Greg Whall...   \n",
              "\n",
              "                                    Date timezone           content  \\\n",
              "0  Mon, 26 Mar 2001 02:44:00 -0800 (PST)      PST               NaN   \n",
              "1  Wed, 10 Jan 2001 01:09:00 -0800 (PST)      PST               NaN   \n",
              "2  Mon, 23 Apr 2001 15:41:00 -0700 (PDT)      PDT               NaN   \n",
              "3  Wed, 28 Feb 2001 02:39:00 -0800 (PST)      PST  i cant open this   \n",
              "4   Fri, 7 Jul 2000 01:58:00 -0700 (PDT)      PDT               NaN   \n",
              "\n",
              "                    Date_UTC  Sender-Receiver direction  \\\n",
              "0  2001-03-26 10:44:00+00:00                0      same   \n",
              "1  2001-01-10 09:09:00+00:00                0      same   \n",
              "2  2001-04-23 22:41:00+00:00                0      same   \n",
              "3  2001-02-28 10:39:00+00:00                1  downward   \n",
              "4  2000-07-07 08:58:00+00:00                1  downward   \n",
              "\n",
              "                         tokens           cleaned_tokens  \n",
              "0                            []                       []  \n",
              "1                            []                       []  \n",
              "2                            []                       []  \n",
              "3  ['i', 'cant', 'open', 'thi']  ['cant', 'open', 'thi']  \n",
              "4                            []                       []  "
            ],
            "text/html": [
              "\n",
              "  <div id=\"df-6c8bec7a-032d-4856-a247-d492d57e85c7\" class=\"colab-df-container\">\n",
              "    <div>\n",
              "<style scoped>\n",
              "    .dataframe tbody tr th:only-of-type {\n",
              "        vertical-align: middle;\n",
              "    }\n",
              "\n",
              "    .dataframe tbody tr th {\n",
              "        vertical-align: top;\n",
              "    }\n",
              "\n",
              "    .dataframe thead th {\n",
              "        text-align: right;\n",
              "    }\n",
              "</style>\n",
              "<table border=\"1\" class=\"dataframe\">\n",
              "  <thead>\n",
              "    <tr style=\"text-align: right;\">\n",
              "      <th></th>\n",
              "      <th>Receiver_Name</th>\n",
              "      <th>Receiver_Email</th>\n",
              "      <th>Receiver_Position</th>\n",
              "      <th>Receiver_Rank</th>\n",
              "      <th>Sender_Name</th>\n",
              "      <th>Sender_Email</th>\n",
              "      <th>Sender_Position</th>\n",
              "      <th>Sender_Rank</th>\n",
              "      <th>file</th>\n",
              "      <th>message</th>\n",
              "      <th>Subject</th>\n",
              "      <th>Body</th>\n",
              "      <th>Date</th>\n",
              "      <th>timezone</th>\n",
              "      <th>content</th>\n",
              "      <th>Date_UTC</th>\n",
              "      <th>Sender-Receiver</th>\n",
              "      <th>direction</th>\n",
              "      <th>tokens</th>\n",
              "      <th>cleaned_tokens</th>\n",
              "    </tr>\n",
              "  </thead>\n",
              "  <tbody>\n",
              "    <tr>\n",
              "      <th>0</th>\n",
              "      <td>Andrew Lewis</td>\n",
              "      <td>andrew.lewis@enron.com</td>\n",
              "      <td>Vice President</td>\n",
              "      <td>4</td>\n",
              "      <td>Hunter Shively</td>\n",
              "      <td>hunter.shively@enron.com</td>\n",
              "      <td>Vice President</td>\n",
              "      <td>4</td>\n",
              "      <td>lewis-a/all_documents/6.</td>\n",
              "      <td>Message-ID: &lt;20773283.1075848285687.JavaMail.e...</td>\n",
              "      <td>Western Frontier</td>\n",
              "      <td>---------------------- Forwarded by Hunter S S...</td>\n",
              "      <td>Mon, 26 Mar 2001 02:44:00 -0800 (PST)</td>\n",
              "      <td>PST</td>\n",
              "      <td>NaN</td>\n",
              "      <td>2001-03-26 10:44:00+00:00</td>\n",
              "      <td>0</td>\n",
              "      <td>same</td>\n",
              "      <td>[]</td>\n",
              "      <td>[]</td>\n",
              "    </tr>\n",
              "    <tr>\n",
              "      <th>1</th>\n",
              "      <td>Andrew Lewis</td>\n",
              "      <td>andrew.lewis@enron.com</td>\n",
              "      <td>Vice President</td>\n",
              "      <td>4</td>\n",
              "      <td>Hunter Shively</td>\n",
              "      <td>hunter.shively@enron.com</td>\n",
              "      <td>Vice President</td>\n",
              "      <td>4</td>\n",
              "      <td>shively-h/_sent_mail/109.</td>\n",
              "      <td>Message-ID: &lt;5246852.1075857472118.JavaMail.ev...</td>\n",
              "      <td>European 10 jet stream heights</td>\n",
              "      <td>---------------------- Forwarded by Hunter S S...</td>\n",
              "      <td>Wed, 10 Jan 2001 01:09:00 -0800 (PST)</td>\n",
              "      <td>PST</td>\n",
              "      <td>NaN</td>\n",
              "      <td>2001-01-10 09:09:00+00:00</td>\n",
              "      <td>0</td>\n",
              "      <td>same</td>\n",
              "      <td>[]</td>\n",
              "      <td>[]</td>\n",
              "    </tr>\n",
              "    <tr>\n",
              "      <th>2</th>\n",
              "      <td>Andrew Lewis</td>\n",
              "      <td>andrew.lewis@enron.com</td>\n",
              "      <td>Vice President</td>\n",
              "      <td>4</td>\n",
              "      <td>Scott Neal</td>\n",
              "      <td>scott.neal@enron.com</td>\n",
              "      <td>Vice President</td>\n",
              "      <td>4</td>\n",
              "      <td>neal-s/_sent_mail/8.</td>\n",
              "      <td>Message-ID: &lt;15966480.1075841353728.JavaMail.e...</td>\n",
              "      <td>NaN</td>\n",
              "      <td>\\n---------------------- Forwarded by Scott Ne...</td>\n",
              "      <td>Mon, 23 Apr 2001 15:41:00 -0700 (PDT)</td>\n",
              "      <td>PDT</td>\n",
              "      <td>NaN</td>\n",
              "      <td>2001-04-23 22:41:00+00:00</td>\n",
              "      <td>0</td>\n",
              "      <td>same</td>\n",
              "      <td>[]</td>\n",
              "      <td>[]</td>\n",
              "    </tr>\n",
              "    <tr>\n",
              "      <th>3</th>\n",
              "      <td>Andy Zipper</td>\n",
              "      <td>andy.zipper@enron.com</td>\n",
              "      <td>Vice President</td>\n",
              "      <td>4</td>\n",
              "      <td>Greg Whalley</td>\n",
              "      <td>greg.whalley@enron.com</td>\n",
              "      <td>President</td>\n",
              "      <td>5</td>\n",
              "      <td>whalley-l/_sent_mail/210.</td>\n",
              "      <td>Message-ID: &lt;2502257.1075858067848.JavaMail.ev...</td>\n",
              "      <td>Re:</td>\n",
              "      <td>i cant open this</td>\n",
              "      <td>Wed, 28 Feb 2001 02:39:00 -0800 (PST)</td>\n",
              "      <td>PST</td>\n",
              "      <td>i cant open this</td>\n",
              "      <td>2001-02-28 10:39:00+00:00</td>\n",
              "      <td>1</td>\n",
              "      <td>downward</td>\n",
              "      <td>['i', 'cant', 'open', 'thi']</td>\n",
              "      <td>['cant', 'open', 'thi']</td>\n",
              "    </tr>\n",
              "    <tr>\n",
              "      <th>4</th>\n",
              "      <td>Andy Zipper</td>\n",
              "      <td>andy.zipper@enron.com</td>\n",
              "      <td>Vice President</td>\n",
              "      <td>4</td>\n",
              "      <td>Greg Whalley</td>\n",
              "      <td>greg.whalley@enron.com</td>\n",
              "      <td>President</td>\n",
              "      <td>5</td>\n",
              "      <td>whalley-l/_sent_mail/87.</td>\n",
              "      <td>Message-ID: &lt;17433613.1075858013333.JavaMail.e...</td>\n",
              "      <td>RedMeteor.com</td>\n",
              "      <td>---------------------- Forwarded by Greg Whall...</td>\n",
              "      <td>Fri, 7 Jul 2000 01:58:00 -0700 (PDT)</td>\n",
              "      <td>PDT</td>\n",
              "      <td>NaN</td>\n",
              "      <td>2000-07-07 08:58:00+00:00</td>\n",
              "      <td>1</td>\n",
              "      <td>downward</td>\n",
              "      <td>[]</td>\n",
              "      <td>[]</td>\n",
              "    </tr>\n",
              "  </tbody>\n",
              "</table>\n",
              "</div>\n",
              "    <div class=\"colab-df-buttons\">\n",
              "\n",
              "  <div class=\"colab-df-container\">\n",
              "    <button class=\"colab-df-convert\" onclick=\"convertToInteractive('df-6c8bec7a-032d-4856-a247-d492d57e85c7')\"\n",
              "            title=\"Convert this dataframe to an interactive table.\"\n",
              "            style=\"display:none;\">\n",
              "\n",
              "  <svg xmlns=\"http://www.w3.org/2000/svg\" height=\"24px\" viewBox=\"0 -960 960 960\">\n",
              "    <path d=\"M120-120v-720h720v720H120Zm60-500h600v-160H180v160Zm220 220h160v-160H400v160Zm0 220h160v-160H400v160ZM180-400h160v-160H180v160Zm440 0h160v-160H620v160ZM180-180h160v-160H180v160Zm440 0h160v-160H620v160Z\"/>\n",
              "  </svg>\n",
              "    </button>\n",
              "\n",
              "  <style>\n",
              "    .colab-df-container {\n",
              "      display:flex;\n",
              "      gap: 12px;\n",
              "    }\n",
              "\n",
              "    .colab-df-convert {\n",
              "      background-color: #E8F0FE;\n",
              "      border: none;\n",
              "      border-radius: 50%;\n",
              "      cursor: pointer;\n",
              "      display: none;\n",
              "      fill: #1967D2;\n",
              "      height: 32px;\n",
              "      padding: 0 0 0 0;\n",
              "      width: 32px;\n",
              "    }\n",
              "\n",
              "    .colab-df-convert:hover {\n",
              "      background-color: #E2EBFA;\n",
              "      box-shadow: 0px 1px 2px rgba(60, 64, 67, 0.3), 0px 1px 3px 1px rgba(60, 64, 67, 0.15);\n",
              "      fill: #174EA6;\n",
              "    }\n",
              "\n",
              "    .colab-df-buttons div {\n",
              "      margin-bottom: 4px;\n",
              "    }\n",
              "\n",
              "    [theme=dark] .colab-df-convert {\n",
              "      background-color: #3B4455;\n",
              "      fill: #D2E3FC;\n",
              "    }\n",
              "\n",
              "    [theme=dark] .colab-df-convert:hover {\n",
              "      background-color: #434B5C;\n",
              "      box-shadow: 0px 1px 3px 1px rgba(0, 0, 0, 0.15);\n",
              "      filter: drop-shadow(0px 1px 2px rgba(0, 0, 0, 0.3));\n",
              "      fill: #FFFFFF;\n",
              "    }\n",
              "  </style>\n",
              "\n",
              "    <script>\n",
              "      const buttonEl =\n",
              "        document.querySelector('#df-6c8bec7a-032d-4856-a247-d492d57e85c7 button.colab-df-convert');\n",
              "      buttonEl.style.display =\n",
              "        google.colab.kernel.accessAllowed ? 'block' : 'none';\n",
              "\n",
              "      async function convertToInteractive(key) {\n",
              "        const element = document.querySelector('#df-6c8bec7a-032d-4856-a247-d492d57e85c7');\n",
              "        const dataTable =\n",
              "          await google.colab.kernel.invokeFunction('convertToInteractive',\n",
              "                                                    [key], {});\n",
              "        if (!dataTable) return;\n",
              "\n",
              "        const docLinkHtml = 'Like what you see? Visit the ' +\n",
              "          '<a target=\"_blank\" href=https://colab.research.google.com/notebooks/data_table.ipynb>data table notebook</a>'\n",
              "          + ' to learn more about interactive tables.';\n",
              "        element.innerHTML = '';\n",
              "        dataTable['output_type'] = 'display_data';\n",
              "        await google.colab.output.renderOutput(dataTable, element);\n",
              "        const docLink = document.createElement('div');\n",
              "        docLink.innerHTML = docLinkHtml;\n",
              "        element.appendChild(docLink);\n",
              "      }\n",
              "    </script>\n",
              "  </div>\n",
              "\n",
              "\n",
              "<div id=\"df-921e398c-7587-47b0-9e9b-fd465b84b69b\">\n",
              "  <button class=\"colab-df-quickchart\" onclick=\"quickchart('df-921e398c-7587-47b0-9e9b-fd465b84b69b')\"\n",
              "            title=\"Suggest charts\"\n",
              "            style=\"display:none;\">\n",
              "\n",
              "<svg xmlns=\"http://www.w3.org/2000/svg\" height=\"24px\"viewBox=\"0 0 24 24\"\n",
              "     width=\"24px\">\n",
              "    <g>\n",
              "        <path d=\"M19 3H5c-1.1 0-2 .9-2 2v14c0 1.1.9 2 2 2h14c1.1 0 2-.9 2-2V5c0-1.1-.9-2-2-2zM9 17H7v-7h2v7zm4 0h-2V7h2v10zm4 0h-2v-4h2v4z\"/>\n",
              "    </g>\n",
              "</svg>\n",
              "  </button>\n",
              "\n",
              "<style>\n",
              "  .colab-df-quickchart {\n",
              "      --bg-color: #E8F0FE;\n",
              "      --fill-color: #1967D2;\n",
              "      --hover-bg-color: #E2EBFA;\n",
              "      --hover-fill-color: #174EA6;\n",
              "      --disabled-fill-color: #AAA;\n",
              "      --disabled-bg-color: #DDD;\n",
              "  }\n",
              "\n",
              "  [theme=dark] .colab-df-quickchart {\n",
              "      --bg-color: #3B4455;\n",
              "      --fill-color: #D2E3FC;\n",
              "      --hover-bg-color: #434B5C;\n",
              "      --hover-fill-color: #FFFFFF;\n",
              "      --disabled-bg-color: #3B4455;\n",
              "      --disabled-fill-color: #666;\n",
              "  }\n",
              "\n",
              "  .colab-df-quickchart {\n",
              "    background-color: var(--bg-color);\n",
              "    border: none;\n",
              "    border-radius: 50%;\n",
              "    cursor: pointer;\n",
              "    display: none;\n",
              "    fill: var(--fill-color);\n",
              "    height: 32px;\n",
              "    padding: 0;\n",
              "    width: 32px;\n",
              "  }\n",
              "\n",
              "  .colab-df-quickchart:hover {\n",
              "    background-color: var(--hover-bg-color);\n",
              "    box-shadow: 0 1px 2px rgba(60, 64, 67, 0.3), 0 1px 3px 1px rgba(60, 64, 67, 0.15);\n",
              "    fill: var(--button-hover-fill-color);\n",
              "  }\n",
              "\n",
              "  .colab-df-quickchart-complete:disabled,\n",
              "  .colab-df-quickchart-complete:disabled:hover {\n",
              "    background-color: var(--disabled-bg-color);\n",
              "    fill: var(--disabled-fill-color);\n",
              "    box-shadow: none;\n",
              "  }\n",
              "\n",
              "  .colab-df-spinner {\n",
              "    border: 2px solid var(--fill-color);\n",
              "    border-color: transparent;\n",
              "    border-bottom-color: var(--fill-color);\n",
              "    animation:\n",
              "      spin 1s steps(1) infinite;\n",
              "  }\n",
              "\n",
              "  @keyframes spin {\n",
              "    0% {\n",
              "      border-color: transparent;\n",
              "      border-bottom-color: var(--fill-color);\n",
              "      border-left-color: var(--fill-color);\n",
              "    }\n",
              "    20% {\n",
              "      border-color: transparent;\n",
              "      border-left-color: var(--fill-color);\n",
              "      border-top-color: var(--fill-color);\n",
              "    }\n",
              "    30% {\n",
              "      border-color: transparent;\n",
              "      border-left-color: var(--fill-color);\n",
              "      border-top-color: var(--fill-color);\n",
              "      border-right-color: var(--fill-color);\n",
              "    }\n",
              "    40% {\n",
              "      border-color: transparent;\n",
              "      border-right-color: var(--fill-color);\n",
              "      border-top-color: var(--fill-color);\n",
              "    }\n",
              "    60% {\n",
              "      border-color: transparent;\n",
              "      border-right-color: var(--fill-color);\n",
              "    }\n",
              "    80% {\n",
              "      border-color: transparent;\n",
              "      border-right-color: var(--fill-color);\n",
              "      border-bottom-color: var(--fill-color);\n",
              "    }\n",
              "    90% {\n",
              "      border-color: transparent;\n",
              "      border-bottom-color: var(--fill-color);\n",
              "    }\n",
              "  }\n",
              "</style>\n",
              "\n",
              "  <script>\n",
              "    async function quickchart(key) {\n",
              "      const quickchartButtonEl =\n",
              "        document.querySelector('#' + key + ' button');\n",
              "      quickchartButtonEl.disabled = true;  // To prevent multiple clicks.\n",
              "      quickchartButtonEl.classList.add('colab-df-spinner');\n",
              "      try {\n",
              "        const charts = await google.colab.kernel.invokeFunction(\n",
              "            'suggestCharts', [key], {});\n",
              "      } catch (error) {\n",
              "        console.error('Error during call to suggestCharts:', error);\n",
              "      }\n",
              "      quickchartButtonEl.classList.remove('colab-df-spinner');\n",
              "      quickchartButtonEl.classList.add('colab-df-quickchart-complete');\n",
              "    }\n",
              "    (() => {\n",
              "      let quickchartButtonEl =\n",
              "        document.querySelector('#df-921e398c-7587-47b0-9e9b-fd465b84b69b button');\n",
              "      quickchartButtonEl.style.display =\n",
              "        google.colab.kernel.accessAllowed ? 'block' : 'none';\n",
              "    })();\n",
              "  </script>\n",
              "</div>\n",
              "    </div>\n",
              "  </div>\n"
            ]
          },
          "metadata": {},
          "execution_count": 6
        }
      ]
    },
    {
      "cell_type": "code",
      "source": [
        "s_emails = df[[\"direction\", \"content\", \"Sender_Email\", \"Receiver_Email\"]]\n",
        "s_emails.fillna(\"\", inplace=True)"
      ],
      "metadata": {
        "colab": {
          "base_uri": "https://localhost:8080/"
        },
        "id": "kuCCW1YHdPFZ",
        "outputId": "7ec9d378-2272-408e-81de-fcb226829a4b"
      },
      "execution_count": 7,
      "outputs": [
        {
          "output_type": "stream",
          "name": "stderr",
          "text": [
            "<ipython-input-7-b91343b5bf1b>:2: SettingWithCopyWarning: \n",
            "A value is trying to be set on a copy of a slice from a DataFrame\n",
            "\n",
            "See the caveats in the documentation: https://pandas.pydata.org/pandas-docs/stable/user_guide/indexing.html#returning-a-view-versus-a-copy\n",
            "  s_emails.fillna(\"\", inplace=True)\n"
          ]
        }
      ]
    },
    {
      "cell_type": "code",
      "source": [
        "# Word Count\n",
        "\n",
        "def word_count(text):\n",
        "    return len(text.split())\n",
        "\n",
        "s_emails[\"Word_Count\"] = s_emails[\"content\"].apply(word_count)"
      ],
      "metadata": {
        "colab": {
          "base_uri": "https://localhost:8080/"
        },
        "id": "vZbdXZbtdjtC",
        "outputId": "5528c7c4-6a1f-450a-9a9c-f9a029a008b6"
      },
      "execution_count": 8,
      "outputs": [
        {
          "output_type": "stream",
          "name": "stderr",
          "text": [
            "<ipython-input-8-6618171589a9>:6: SettingWithCopyWarning: \n",
            "A value is trying to be set on a copy of a slice from a DataFrame.\n",
            "Try using .loc[row_indexer,col_indexer] = value instead\n",
            "\n",
            "See the caveats in the documentation: https://pandas.pydata.org/pandas-docs/stable/user_guide/indexing.html#returning-a-view-versus-a-copy\n",
            "  s_emails[\"Word_Count\"] = s_emails[\"content\"].apply(word_count)\n"
          ]
        }
      ]
    },
    {
      "cell_type": "code",
      "source": [
        "# Tokens\n",
        "\n",
        "import spacy\n",
        "import re\n",
        "\n",
        "nlp = spacy.load(\"en_core_web_sm\")\n",
        "\n",
        "name_list_receiver = set(df[\"Receiver_Name\"].str.split().explode().str.lower())\n",
        "name_list_sender = set(df[\"Sender_Name\"].str.split().explode().str.lower())\n",
        "\n",
        "name_list = list(name_list_receiver | name_list_sender)\n",
        "\n",
        "default_stop_words = spacy.lang.en.stop_words.STOP_WORDS\n",
        "custom_stop_words = default_stop_words - {\n",
        "    \"can\", \"could\", \"may\", \"might\", \"shall\", \"should\", \"will\", \"would\", \"must\", \"ought\"}\n",
        "\n",
        "custom_remove_words = {\"na\", \"cc\", '`', \"+\"}\n",
        "\n",
        "def lemmatize_text_and_remove_punct(text):\n",
        "    doc = nlp(text)\n",
        "    date_pattern = re.compile(r'\\d{1,2}/\\d{1,2}/\\d{2,4}')\n",
        "    time_pattern = re.compile(r'\\d{1,2}:\\d{2}(:\\d{2})?$')\n",
        "\n",
        "    tokens = [token.lemma_.lower() for token in doc if\n",
        "                         not token.is_punct\n",
        "                         and token if not token.like_num\n",
        "                         and not date_pattern.match(token.text)\n",
        "                         and not time_pattern.match(token.text)\n",
        "                         and \"@\" not in token.text\n",
        "                         and \"$\" not in token.text\n",
        "                         and \"=\" not in token.text\n",
        "                         and token.text.lower() not in custom_stop_words\n",
        "                         and token.text.lower() not in custom_remove_words\n",
        "                         and token.text.lower() not in name_list\n",
        "                         and token.ent_type_ != \"PERSON\"\n",
        "                         and token.ent_type_ != \"DATE\"\n",
        "                         and token.ent_type_ != \"TIME\"\n",
        "                         and len(token.lemma_) >= 3\n",
        "                         ]\n",
        "    tokens = [token for token in tokens if token.strip()]\n",
        "    return tokens\n",
        "\n",
        "s_emails[\"tokens\"] = s_emails[\"content\"].apply(lemmatize_text_and_remove_punct)\n",
        "\n",
        "s_emails[\"unique_tokens\"] = s_emails[\"tokens\"].apply(set)\n",
        "s_emails[\"n_tokens\"] = s_emails[\"tokens\"].apply(len)\n",
        "s_emails[\"n_unique_tokens\"] = s_emails[\"unique_tokens\"].apply(len)"
      ],
      "metadata": {
        "colab": {
          "base_uri": "https://localhost:8080/"
        },
        "id": "_RtYfIX6eGKG",
        "outputId": "41f1bd1a-d2b9-407e-94b4-9858afdc84c3"
      },
      "execution_count": 9,
      "outputs": [
        {
          "output_type": "stream",
          "name": "stderr",
          "text": [
            "<ipython-input-9-97fe4fd31678>:43: SettingWithCopyWarning: \n",
            "A value is trying to be set on a copy of a slice from a DataFrame.\n",
            "Try using .loc[row_indexer,col_indexer] = value instead\n",
            "\n",
            "See the caveats in the documentation: https://pandas.pydata.org/pandas-docs/stable/user_guide/indexing.html#returning-a-view-versus-a-copy\n",
            "  s_emails[\"tokens\"] = s_emails[\"content\"].apply(lemmatize_text_and_remove_punct)\n",
            "<ipython-input-9-97fe4fd31678>:45: SettingWithCopyWarning: \n",
            "A value is trying to be set on a copy of a slice from a DataFrame.\n",
            "Try using .loc[row_indexer,col_indexer] = value instead\n",
            "\n",
            "See the caveats in the documentation: https://pandas.pydata.org/pandas-docs/stable/user_guide/indexing.html#returning-a-view-versus-a-copy\n",
            "  s_emails[\"unique_tokens\"] = s_emails[\"tokens\"].apply(set)\n",
            "<ipython-input-9-97fe4fd31678>:46: SettingWithCopyWarning: \n",
            "A value is trying to be set on a copy of a slice from a DataFrame.\n",
            "Try using .loc[row_indexer,col_indexer] = value instead\n",
            "\n",
            "See the caveats in the documentation: https://pandas.pydata.org/pandas-docs/stable/user_guide/indexing.html#returning-a-view-versus-a-copy\n",
            "  s_emails[\"n_tokens\"] = s_emails[\"tokens\"].apply(len)\n",
            "<ipython-input-9-97fe4fd31678>:47: SettingWithCopyWarning: \n",
            "A value is trying to be set on a copy of a slice from a DataFrame.\n",
            "Try using .loc[row_indexer,col_indexer] = value instead\n",
            "\n",
            "See the caveats in the documentation: https://pandas.pydata.org/pandas-docs/stable/user_guide/indexing.html#returning-a-view-versus-a-copy\n",
            "  s_emails[\"n_unique_tokens\"] = s_emails[\"unique_tokens\"].apply(len)\n"
          ]
        }
      ]
    },
    {
      "cell_type": "code",
      "source": [
        "# Sentiment\n",
        "\n",
        "import pandas as pd\n",
        "from textblob import TextBlob\n",
        "from vaderSentiment.vaderSentiment import SentimentIntensityAnalyzer\n",
        "\n",
        "# TextBlob\n",
        "def get_textblob_sentiment(text):\n",
        "    blob = TextBlob(text)\n",
        "    return blob.sentiment.polarity\n",
        "# Vader\n",
        "def get_vader_sentiment(text):\n",
        "    analyzer = SentimentIntensityAnalyzer()\n",
        "    sentiment_scores = analyzer.polarity_scores(text)\n",
        "    return sentiment_scores['compound']\n",
        "\n",
        "s_emails['textblob_sentiment'] = s_emails['content'].apply(get_textblob_sentiment)\n",
        "\n",
        "s_emails['vader_sentiment'] = s_emails['content'].apply(get_vader_sentiment)\n"
      ],
      "metadata": {
        "id": "ffIstVbMLsYy",
        "colab": {
          "base_uri": "https://localhost:8080/"
        },
        "outputId": "c8a829d2-7617-4c8c-f738-419c5e9dce9f"
      },
      "execution_count": 10,
      "outputs": [
        {
          "output_type": "stream",
          "name": "stderr",
          "text": [
            "<ipython-input-10-07ec12311260>:17: SettingWithCopyWarning: \n",
            "A value is trying to be set on a copy of a slice from a DataFrame.\n",
            "Try using .loc[row_indexer,col_indexer] = value instead\n",
            "\n",
            "See the caveats in the documentation: https://pandas.pydata.org/pandas-docs/stable/user_guide/indexing.html#returning-a-view-versus-a-copy\n",
            "  s_emails['textblob_sentiment'] = s_emails['content'].apply(get_textblob_sentiment)\n",
            "<ipython-input-10-07ec12311260>:19: SettingWithCopyWarning: \n",
            "A value is trying to be set on a copy of a slice from a DataFrame.\n",
            "Try using .loc[row_indexer,col_indexer] = value instead\n",
            "\n",
            "See the caveats in the documentation: https://pandas.pydata.org/pandas-docs/stable/user_guide/indexing.html#returning-a-view-versus-a-copy\n",
            "  s_emails['vader_sentiment'] = s_emails['content'].apply(get_vader_sentiment)\n"
          ]
        }
      ]
    },
    {
      "cell_type": "code",
      "source": [
        "print(\"Number of Tokens by\", s_emails.groupby(\"direction\")[\"n_tokens\"].mean(), \"\\n\")\n",
        "print(\"Word count by\", s_emails.groupby(\"direction\")[\"Word_Count\"].mean(), \"\\n\")\n",
        "print(\"Textblob sentiment by\", s_emails.groupby(\"direction\")[\"textblob_sentiment\"].mean(), \"\\n\")\n",
        "print(\"Vader sentiment by\", s_emails.groupby(\"direction\")[\"vader_sentiment\"].mean(), \"\\n\")"
      ],
      "metadata": {
        "colab": {
          "base_uri": "https://localhost:8080/"
        },
        "id": "xU8tCUTD7apP",
        "outputId": "183893f2-a9cc-4e76-9917-5cc36810185b"
      },
      "execution_count": 11,
      "outputs": [
        {
          "output_type": "stream",
          "name": "stdout",
          "text": [
            "Number of Tokens by direction\n",
            "downward     9.054602\n",
            "same        12.464191\n",
            "upward      18.001597\n",
            "Name: n_tokens, dtype: float64 \n",
            "\n",
            "Word count by direction\n",
            "downward    24.140406\n",
            "same        31.347480\n",
            "upward      44.683706\n",
            "Name: Word_Count, dtype: float64 \n",
            "\n",
            "Textblob sentiment by direction\n",
            "downward    0.094941\n",
            "same        0.056201\n",
            "upward      0.098923\n",
            "Name: textblob_sentiment, dtype: float64 \n",
            "\n",
            "Vader sentiment by direction\n",
            "downward    0.237763\n",
            "same        0.186695\n",
            "upward      0.295496\n",
            "Name: vader_sentiment, dtype: float64 \n",
            "\n"
          ]
        }
      ]
    },
    {
      "cell_type": "markdown",
      "source": [
        "# Word Count and Tokens Test and Graph"
      ],
      "metadata": {
        "id": "OwTG9IN34Q-9"
      }
    },
    {
      "cell_type": "code",
      "source": [
        "\n",
        "# ANOVA and TukeyHSD result\n",
        "import pandas as pd\n",
        "import statsmodels.api as sm\n",
        "from statsmodels.formula.api import ols\n",
        "from statsmodels.stats.multicomp import pairwise_tukeyhsd\n",
        "\n",
        "# ANOVA\n",
        "model = ols('Word_Count ~ C(direction)', data=s_emails).fit()\n",
        "anova_table = sm.stats.anova_lm(model, typ=2)\n",
        "print(anova_table)\n",
        "print(\"\\n\\n\")\n",
        "\n",
        "# perform Tukey's HSD test\n",
        "tukey_results = pairwise_tukeyhsd(s_emails[\"Word_Count\"], s_emails['direction'])\n",
        "print(tukey_results)\n",
        "print(\"\\n\")\n",
        "\n",
        "# Print the p-values\n",
        "print(f\"Tukey's HSD P-Values: {[round(p, 5) for p in tukey_results.pvalues]}\", \"\\n\")\n",
        "\n",
        "#########################################################\n",
        "\n",
        "import matplotlib.pyplot as plt\n",
        "import seaborn as sns\n",
        "\n",
        "data = s_emails\n",
        "\n",
        "# Create your plot with Seaborn\n",
        "order = [\"downward\", \"same\", \"upward\"]\n",
        "\n",
        "rgb = [(205, 201, 197), (117, 170, 219), (0, 43, 127)]\n",
        "colors = [tuple(t / 255 for t in x) for x in rgb]\n",
        "\n",
        "plt.figure(figsize=(6, 5))\n",
        "\n",
        "sns.barplot(\n",
        "    data=data,\n",
        "    x=\"direction\",\n",
        "    y=\"Word_Count\",\n",
        "    order=order,\n",
        "    palette=colors,\n",
        "    errorbar=None,\n",
        ")\n",
        "\n",
        "plt.ylim(0, 60)\n",
        "plt.title(\"Word Count by Power Dynamics Directions\",  fontweight=\"bold\")\n",
        "plt.xlabel(\"Power Dynamics Direction\")\n",
        "plt.ylabel(\"Word Count\")\n",
        "\n",
        "plt.savefig(\"word_count_plot.png\")\n",
        "\n",
        "plt.show()"
      ],
      "metadata": {
        "colab": {
          "base_uri": "https://localhost:8080/",
          "height": 812
        },
        "id": "0QlfzTW9hClP",
        "outputId": "67e1c296-8388-41d6-aed3-95d5adc15bed"
      },
      "execution_count": 12,
      "outputs": [
        {
          "output_type": "stream",
          "name": "stdout",
          "text": [
            "                    sum_sq      df         F    PR(>F)\n",
            "C(direction)  1.377524e+05     2.0  6.068033  0.002358\n",
            "Residual      2.290564e+07  2018.0       NaN       NaN\n",
            "\n",
            "\n",
            "\n",
            " Multiple Comparison of Means - Tukey HSD, FWER=0.05  \n",
            "======================================================\n",
            " group1  group2 meandiff p-adj   lower   upper  reject\n",
            "------------------------------------------------------\n",
            "downward   same   7.2071 0.4186 -6.2177 20.6318  False\n",
            "downward upward  20.5433 0.0018   6.502 34.5846   True\n",
            "    same upward  13.3362  0.054 -0.1752 26.8476  False\n",
            "------------------------------------------------------\n",
            "\n",
            "\n",
            "Tukey's HSD P-Values: [0.41859, 0.00177, 0.05397] \n",
            "\n"
          ]
        },
        {
          "output_type": "display_data",
          "data": {
            "text/plain": [
              "<Figure size 600x500 with 1 Axes>"
            ],
            "image/png": "[encoded data removed]"
          },
          "metadata": {}
        }
      ]
    },
    {
      "cell_type": "code",
      "source": [
        "# Tokens\n",
        "# ANOVA and TukeyHSD result\n",
        "\n",
        "import statsmodels.api as sm\n",
        "from statsmodels.formula.api import ols\n",
        "from statsmodels.stats.multicomp import pairwise_tukeyhsd\n",
        "\n",
        "# ANOVA\n",
        "model = ols('n_unique_tokens ~ C(direction)', data=s_emails).fit()\n",
        "anova_table = sm.stats.anova_lm(model, typ=2)\n",
        "print(anova_table)\n",
        "print(\"\\n\\n\")\n",
        "\n",
        "# perform Tukey's HSD test\n",
        "tukey_results = pairwise_tukeyhsd(s_emails[\"n_unique_tokens\"], s_emails['direction'])\n",
        "print(tukey_results)\n",
        "print(\"\\n\")\n",
        "\n",
        "# Print the p-values\n",
        "print(f\"Tukey's HSD P-Values: {[round(p, 5) for p in tukey_results.pvalues]}\", \"\\n\")\n",
        "\n",
        "#############################################################\n",
        "\n",
        "import matplotlib.pyplot as plt\n",
        "import seaborn as sns\n",
        "\n",
        "data = s_emails\n",
        "\n",
        "# Create your plot with Seaborn\n",
        "order = [\"downward\", \"same\", \"upward\"]\n",
        "\n",
        "rgb = [(205, 201, 197), (117, 170, 219), (0, 43, 127)]\n",
        "colors = [tuple(t / 255 for t in x) for x in rgb]\n",
        "\n",
        "plt.figure(figsize=(6, 5))\n",
        "\n",
        "sns.barplot(\n",
        "    data=data,\n",
        "    x=\"direction\",\n",
        "    y=\"n_unique_tokens\",\n",
        "    order=order,\n",
        "    palette=colors,\n",
        "    errorbar=None,\n",
        ")\n",
        "\n",
        "plt.ylim(0,18)\n",
        "plt.title(\"Unique Token Count by Power Dynamics Directions\",  fontweight=\"bold\")\n",
        "plt.xlabel(\"Power Dynamics Direction\")\n",
        "plt.ylabel(\"Token Count\")\n",
        "\n",
        "plt.savefig(\"token_count_plot.png\")\n",
        "\n",
        "plt.show()"
      ],
      "metadata": {
        "colab": {
          "base_uri": "https://localhost:8080/",
          "height": 812
        },
        "id": "mE78QFU4igow",
        "outputId": "6834dfe6-fb60-4f7e-b37e-2810778a22af"
      },
      "execution_count": 13,
      "outputs": [
        {
          "output_type": "stream",
          "name": "stdout",
          "text": [
            "                    sum_sq      df         F    PR(>F)\n",
            "C(direction)  1.283736e+04     2.0  9.643885  0.000068\n",
            "Residual      1.343120e+06  2018.0       NaN       NaN\n",
            "\n",
            "\n",
            "\n",
            " Multiple Comparison of Means - Tukey HSD, FWER=0.05 \n",
            "=====================================================\n",
            " group1  group2 meandiff p-adj   lower  upper  reject\n",
            "-----------------------------------------------------\n",
            "downward   same   1.6152 0.4741 -1.6356  4.866  False\n",
            "downward upward   6.1283 0.0001  2.7282 9.5284   True\n",
            "    same upward   4.5131 0.0035  1.2412 7.7849   True\n",
            "-----------------------------------------------------\n",
            "\n",
            "\n",
            "Tukey's HSD P-Values: [0.47409, 7e-05, 0.00354] \n",
            "\n"
          ]
        },
        {
          "output_type": "display_data",
          "data": {
            "text/plain": [
              "<Figure size 600x500 with 1 Axes>"
            ],
            "image/png": "[encoded data removed]"
          },
          "metadata": {}
        }
      ]
    },
    {
      "cell_type": "markdown",
      "source": [
        "# Sentiment Test and Graph"
      ],
      "metadata": {
        "id": "eI8jkt5WNO9y"
      }
    },
    {
      "cell_type": "code",
      "source": [
        "\n",
        "# ANOVA and TukeyHSD result\n",
        "\n",
        "import statsmodels.api as sm\n",
        "from statsmodels.formula.api import ols\n",
        "from statsmodels.stats.multicomp import pairwise_tukeyhsd\n",
        "\n",
        "# ANOVA\n",
        "model = ols('textblob_sentiment ~ C(direction)', data=s_emails).fit()\n",
        "anova_table = sm.stats.anova_lm(model, typ=2)\n",
        "print(anova_table)\n",
        "print(\"\\n\\n\")\n",
        "\n",
        "# perform Tukey's HSD test\n",
        "tukey_results = pairwise_tukeyhsd(s_emails[\"textblob_sentiment\"], s_emails['direction'])\n",
        "print(tukey_results)\n",
        "print(\"\\n\")\n",
        "\n",
        "# Print the p-values\n",
        "print(f\"Tukey's HSD P-Values: {[round(p, 5) for p in tukey_results.pvalues]}\", \"\\n\")\n",
        "\n",
        "\n",
        "#############################################################\n",
        "\n",
        "import matplotlib.pyplot as plt\n",
        "import seaborn as sns\n",
        "\n",
        "data = s_emails\n",
        "\n",
        "# Create your plot with Seaborn\n",
        "order = [\"downward\", \"same\", \"upward\"]\n",
        "\n",
        "rgb = [(205, 201, 197), (117, 170, 219), (0, 43, 127)]\n",
        "colors = [tuple(t / 255 for t in x) for x in rgb]\n",
        "\n",
        "sns.barplot(\n",
        "    data=data,\n",
        "    x=\"direction\",\n",
        "    y=\"textblob_sentiment\",\n",
        "    order=order,\n",
        "    palette=colors,\n",
        "    errorbar=None,\n",
        ")\n",
        "\n",
        "plt.ylim(0,0.2)\n",
        "plt.title(\"Textblob Sentiment by Power Dynamics Directions\",  fontweight=\"bold\")\n",
        "plt.xlabel(\"Power Dynamics Direction\")\n",
        "plt.ylabel(\"Sentiment\")\n",
        "\n",
        "plt.savefig(\"sentiment_plot.png\")\n",
        "\n",
        "plt.show()"
      ],
      "metadata": {
        "colab": {
          "base_uri": "https://localhost:8080/",
          "height": 797
        },
        "id": "0aAPUrHw8f3J",
        "outputId": "24bfa51c-6a04-436d-fbef-ea9e866e2cc8"
      },
      "execution_count": 14,
      "outputs": [
        {
          "output_type": "stream",
          "name": "stdout",
          "text": [
            "                 sum_sq      df          F    PR(>F)\n",
            "C(direction)   0.788335     2.0  10.988535  0.000018\n",
            "Residual      72.387309  2018.0        NaN       NaN\n",
            "\n",
            "\n",
            "\n",
            " Multiple Comparison of Means - Tukey HSD, FWER=0.05  \n",
            "======================================================\n",
            " group1  group2 meandiff p-adj   lower   upper  reject\n",
            "------------------------------------------------------\n",
            "downward   same  -0.0387 0.0004 -0.0626 -0.0149   True\n",
            "downward upward    0.004 0.9257  -0.021  0.0289  False\n",
            "    same upward   0.0427 0.0001  0.0187  0.0667   True\n",
            "------------------------------------------------------\n",
            "\n",
            "\n",
            "Tukey's HSD P-Values: [0.00042, 0.92571, 9e-05] \n",
            "\n"
          ]
        },
        {
          "output_type": "display_data",
          "data": {
            "text/plain": [
              "<Figure size 640x480 with 1 Axes>"
            ],
            "image/png": "[encoded data removed]"
          },
          "metadata": {}
        }
      ]
    },
    {
      "cell_type": "code",
      "source": [
        "\n",
        "# ANOVA and TukeyHSD result\n",
        "\n",
        "import statsmodels.api as sm\n",
        "from statsmodels.formula.api import ols\n",
        "from statsmodels.stats.multicomp import pairwise_tukeyhsd\n",
        "\n",
        "# ANOVA\n",
        "model = ols('vader_sentiment ~ C(direction)', data=s_emails).fit()\n",
        "anova_table = sm.stats.anova_lm(model, typ=2)\n",
        "print(anova_table)\n",
        "print(\"\\n\\n\")\n",
        "\n",
        "# perform Tukey's HSD test\n",
        "tukey_results = pairwise_tukeyhsd(s_emails[\"vader_sentiment\"], s_emails['direction'])\n",
        "print(tukey_results)\n",
        "print(\"\\n\")\n",
        "\n",
        "# Print the p-values\n",
        "print(f\"Tukey's HSD P-Values: {[round(p, 5) for p in tukey_results.pvalues]}\", \"\\n\")\n",
        "\n",
        "\n",
        "#############################################################\n",
        "\n",
        "import matplotlib.pyplot as plt\n",
        "import seaborn as sns\n",
        "\n",
        "data = s_emails\n",
        "\n",
        "# Create your plot with Seaborn\n",
        "order = [\"downward\", \"same\", \"upward\"]\n",
        "\n",
        "rgb = [(205, 201, 197), (117, 170, 219), (0, 43, 127)]\n",
        "colors = [tuple(t / 255 for t in x) for x in rgb]\n",
        "\n",
        "sns.barplot(\n",
        "    data=data,\n",
        "    x=\"direction\",\n",
        "    y=\"vader_sentiment\",\n",
        "    order=order,\n",
        "    palette=colors,\n",
        "    errorbar=None,\n",
        ")\n",
        "\n",
        "plt.ylim(0,0.45)\n",
        "plt.title(\"Vader Sentiment by Power Dynamics Directions\",  fontweight=\"bold\")\n",
        "plt.xlabel(\"Power Dynamics Direction\")\n",
        "plt.ylabel(\"Sentiment\")\n",
        "\n",
        "plt.show()"
      ],
      "metadata": {
        "colab": {
          "base_uri": "https://localhost:8080/",
          "height": 797
        },
        "id": "6mv8e-aLQd4J",
        "outputId": "b5685cbf-d97b-4d80-cd1e-243ed506f875"
      },
      "execution_count": 15,
      "outputs": [
        {
          "output_type": "stream",
          "name": "stdout",
          "text": [
            "                  sum_sq      df          F        PR(>F)\n",
            "C(direction)    4.050151     2.0  15.029804  3.317238e-07\n",
            "Residual      271.899901  2018.0        NaN           NaN\n",
            "\n",
            "\n",
            "\n",
            " Multiple Comparison of Means - Tukey HSD, FWER=0.05  \n",
            "======================================================\n",
            " group1  group2 meandiff p-adj   lower   upper  reject\n",
            "------------------------------------------------------\n",
            "downward   same  -0.0511 0.0262 -0.0973 -0.0048   True\n",
            "downward upward   0.0577 0.0143  0.0094  0.1061   True\n",
            "    same upward   0.1088    0.0  0.0622  0.1554   True\n",
            "------------------------------------------------------\n",
            "\n",
            "\n",
            "Tukey's HSD P-Values: [0.02618, 0.01432, 0.0] \n",
            "\n"
          ]
        },
        {
          "output_type": "display_data",
          "data": {
            "text/plain": [
              "<Figure size 640x480 with 1 Axes>"
            ],
            "image/png": "[encoded data removed]"
          },
          "metadata": {}
        }
      ]
    },
    {
      "cell_type": "markdown",
      "source": [
        "# Left-on-read"
      ],
      "metadata": {
        "id": "F3Ke3cFGSKfg"
      }
    },
    {
      "cell_type": "code",
      "source": [
        "unique_senders = s_emails[\"Sender_Email\"].unique().tolist()\n",
        "unique_receivers = s_emails[\"Receiver_Email\"].unique().tolist()\n",
        "email_list = list(set(unique_senders + unique_receivers))\n",
        "\n",
        "count = 0\n",
        "data = []\n",
        "for a_mail in email_list:\n",
        "    for b_mail in email_list:\n",
        "        if a_mail != b_mail:\n",
        "            # Count for a_mail as sender and b_mail as receiver\n",
        "            df_filtered1 = df.loc[(df['Sender_Email'] == a_mail) & (df['Receiver_Email'] == b_mail)]\n",
        "            freq1 = len(df_filtered1)\n",
        "\n",
        "            # Count for b_mail as sender and a_mail as receiver\n",
        "            df_filtered2 = df.loc[(df['Sender_Email'] == b_mail) & (df['Receiver_Email'] == a_mail)]\n",
        "            freq2 = len(df_filtered2)\n",
        "\n",
        "            if freq1 > 0 or freq2 > 0:\n",
        "                data.append({'Sender': a_mail, 'Receiver': b_mail, 'a_mail to b_mail': freq1, 'b_mail to a_mail': freq2})\n",
        "\n",
        "df_freq = pd.DataFrame(data)"
      ],
      "metadata": {
        "id": "KLVvSXsUSWfD"
      },
      "execution_count": 16,
      "outputs": []
    },
    {
      "cell_type": "code",
      "source": [
        "df_status = df[[\"Receiver_Email\", \"Sender_Email\", \"direction\"]]\n",
        "df_status= df_status.rename(columns={'direction': 'original_direction'})\n",
        "\n",
        "df_status.head()\n",
        "\n",
        "commu_freq = pd.merge(df_status, df_freq, left_on = [\"Receiver_Email\", \"Sender_Email\"], right_on = [\"Sender\", \"Receiver\"])\n",
        "commu_freq = commu_freq.drop([\"Receiver_Email\", \"Sender_Email\"], axis=1)"
      ],
      "metadata": {
        "id": "DXkHwwteL280"
      },
      "execution_count": 17,
      "outputs": []
    },
    {
      "cell_type": "code",
      "source": [
        "#commu_freq.sample(3)"
      ],
      "metadata": {
        "id": "4f5cyC9qQ-PI"
      },
      "execution_count": 18,
      "outputs": []
    },
    {
      "cell_type": "code",
      "source": [
        "\n",
        "# left on read operational definition\n",
        "\n",
        "commu_freq[\"left_on_read\"] = (commu_freq[\"a_mail to b_mail\"] > commu_freq[\"b_mail to a_mail\"]).astype(int)\n",
        "\n",
        "commu_freq.groupby(\"original_direction\")[\"left_on_read\"].sum()\n",
        ""
      ],
      "metadata": {
        "colab": {
          "base_uri": "https://localhost:8080/"
        },
        "id": "2ve358Z9L252",
        "outputId": "f66429e4-9c47-426e-b792-97c775abf20b"
      },
      "execution_count": 19,
      "outputs": [
        {
          "output_type": "execute_result",
          "data": {
            "text/plain": [
              "original_direction\n",
              "downward    107\n",
              "same        135\n",
              "upward      139\n",
              "Name: left_on_read, dtype: int64"
            ]
          },
          "metadata": {},
          "execution_count": 19
        }
      ]
    },
    {
      "cell_type": "code",
      "source": [
        "import pandas as pd\n",
        "import statsmodels.api as sm\n",
        "from statsmodels.formula.api import ols\n",
        "from statsmodels.stats.multicomp import pairwise_tukeyhsd\n",
        "\n",
        "# fit an ANOVA model with the 'values' column as the dependent variable and the 'group' column as the independent variable\n",
        "model = ols('left_on_read ~ C(original_direction)', data=commu_freq).fit()\n",
        "\n",
        "# perform an ANOVA test\n",
        "anova_table = sm.stats.anova_lm(model, typ=2)\n",
        "\n",
        "# print the ANOVA table\n",
        "print(anova_table)\n",
        "print(\"\\n\\n\")\n",
        "\n",
        "# perform Tukey's HSD test\n",
        "tukey_results = pairwise_tukeyhsd(commu_freq[\"left_on_read\"], commu_freq['original_direction'])\n",
        "\n",
        "# print the Tukey's HSD results\n",
        "print(tukey_results)\n",
        "print(\"\\n\\n\")\n",
        "\n",
        "#########################################33\n",
        "\n",
        "import matplotlib.pyplot as plt\n",
        "import seaborn as sns\n",
        "\n",
        "data = commu_freq\n",
        "\n",
        "# Create your plot with Seaborn\n",
        "order = [\"downward\", \"same\", \"upward\"]\n",
        "\n",
        "rgb = [(205, 201, 197), (117, 170, 219), (0, 43, 127)]\n",
        "colors = [tuple(t / 255 for t in x) for x in rgb]\n",
        "\n",
        "plt.figure(figsize=(6, 5))\n",
        "\n",
        "sns.barplot(\n",
        "    data=data,\n",
        "    x=\"original_direction\",\n",
        "    y=\"left_on_read\",\n",
        "    order=order,\n",
        "    palette=colors,\n",
        "    errorbar=None,\n",
        ")\n",
        "\n",
        "plt.title(\"Left-on-read Directions\",  fontweight=\"bold\")\n",
        "plt.xlabel(\"Original Mail Direction\")\n",
        "plt.ylabel(\"Left-on-read\")\n",
        "plt.ylim(0,0.4)\n",
        "\n",
        "#plt.savefig(\"left_on_read.png\")\n",
        "\n",
        "plt.show()"
      ],
      "metadata": {
        "colab": {
          "base_uri": "https://localhost:8080/",
          "height": 794
        },
        "id": "Fu2_J6eLMVoJ",
        "outputId": "c8d37f77-2e25-4ab3-bbfd-c43308af0329"
      },
      "execution_count": 20,
      "outputs": [
        {
          "output_type": "stream",
          "name": "stdout",
          "text": [
            "                           sum_sq      df         F    PR(>F)\n",
            "C(original_direction)    1.395903     2.0  4.301396  0.013685\n",
            "Residual               301.644376  1859.0       NaN       NaN\n",
            "\n",
            "\n",
            "\n",
            " Multiple Comparison of Means - Tukey HSD, FWER=0.05 \n",
            "=====================================================\n",
            " group1  group2 meandiff p-adj   lower  upper  reject\n",
            "-----------------------------------------------------\n",
            "downward   same     0.06 0.0244  0.0062 0.1138   True\n",
            "downward upward   0.0551 0.0397   0.002 0.1082   True\n",
            "    same upward  -0.0048  0.976 -0.0589 0.0493  False\n",
            "-----------------------------------------------------\n",
            "\n",
            "\n",
            "\n"
          ]
        },
        {
          "output_type": "display_data",
          "data": {
            "text/plain": [
              "<Figure size 600x500 with 1 Axes>"
            ],
            "image/png": "[encoded data removed]"
          },
          "metadata": {}
        }
      ]
    }
  ]
}
